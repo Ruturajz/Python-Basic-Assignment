{
 "cells": [
  {
   "cell_type": "code",
   "execution_count": null,
   "id": "09abc269",
   "metadata": {},
   "outputs": [],
   "source": [
    "Q1. In the below elements which of them are values or an expression?\n",
    "eg:- values can be integer or string and expressions will be mathematical operators.    \n",
    "* 'hello' -87.8, - ,/ +,  6 \n",
    "\n",
    "ANS:-  \n",
    "Expression are : 'hello', -87.8,6\n",
    "operators are : *, -, + ,/\n"
   ]
  },
  {
   "cell_type": "code",
   "execution_count": null,
   "id": "6fa22a70",
   "metadata": {},
   "outputs": [],
   "source": [
    "2. What is the difference between string and variable?\n",
    "\n",
    "Ans:\n",
    "A string is a single or bunch of charecter enclosed in a single('') or double(\" \") quote.\n",
    "A variable is used to assign any value or string or information. ex: string a= \"Python\" here a is a variable and python is a string.\n"
   ]
  },
  {
   "cell_type": "code",
   "execution_count": null,
   "id": "76ab37b2",
   "metadata": {},
   "outputs": [],
   "source": [
    "q3. Describe three different data types.\n",
    "\n",
    "ANS:-\n",
    "Data types:\n",
    "1. Integer: This data type are used to define or represnt the number.\n",
    "2. Boolean: The boolen data type tells either True or False. Ex: 2==2 is True whether 1>2 is false.\n",
    "3. Float: This data type is used to determine or used decimal values.\n"
   ]
  },
  {
   "cell_type": "code",
   "execution_count": null,
   "id": "7fdfa2b3",
   "metadata": {},
   "outputs": [],
   "source": [
    "q4. What is an expression made up of? What do all expressions do?\n",
    "Ans: Expression is made up of combination of variable ,operator, values.\n",
    "    Ex: 10*1+5-20 this is an expression and when we call python for result it will evaluate expression\n",
    "        and will return the result.\n"
   ]
  },
  {
   "cell_type": "code",
   "execution_count": null,
   "id": "40aae741",
   "metadata": {},
   "outputs": [],
   "source": [
    "q5.This assignment statements, like spam = 10. What is the difference between an expression and a statement?\n",
    "Ans:\n",
    "    Statment is create a varible or describe the value. Python intrerpreator excutes whaterver mentioned in the statement.\n",
    "    Ex: Ineuron: \"Data Science, Python\"\n",
    "            \n",
    "    Expression is made up of combination of variable ,operator, values.\n",
    "    Ex: 10*1+5-20 this is an expression."
   ]
  },
  {
   "cell_type": "code",
   "execution_count": null,
   "id": "84c8ff33",
   "metadata": {},
   "outputs": [],
   "source": [
    "Q6.After running the following code, what does the variable bacon contain?\n",
    "bacon = 22\n",
    "bacon + 1\n",
    "\n",
    "Ans: The beacon has set to 22 but the beacon+1 will not reassign the value to do this it requires\n",
    "    statment, beacon= beacon + 1 and it will restun 23.\n"
   ]
  },
  {
   "cell_type": "code",
   "execution_count": null,
   "id": "4b4039df",
   "metadata": {},
   "outputs": [],
   "source": [
    "q7.What should the values of the following two terms be?\n",
    "'spam' + 'spamspam'\n",
    "'spam' * 3\n",
    "\n",
    "Ans: \n",
    "    both will retun 'spamspamspam' in string after exuting. first is string addition and another is multiplication."
   ]
  },
  {
   "cell_type": "code",
   "execution_count": null,
   "id": "a50f0a5c",
   "metadata": {},
   "outputs": [],
   "source": [
    "q8. Why is eggs a valid variable name while 100 is invalid?\n",
    "\n",
    "Ans: Variables does no have starting with the interger(number).\n",
    "     Egg= \"Chicken\"   #this is valid variable\n",
    "     100= \"Python\"   #this is invalid variable it will return syntax error."
   ]
  },
  {
   "cell_type": "code",
   "execution_count": null,
   "id": "3b5773d1",
   "metadata": {},
   "outputs": [],
   "source": [
    "q9. What three functions can be used to get the integer, floating-point number, or string version of a value?\n",
    "\n",
    "Ans: for interger --    int()\n",
    "     for floating -point number  --  float()\n",
    "    for string  --      str() \n",
    "    int (), float(),str()this functions will convert input into interger, floating no and string for the values passes\n",
    "      to them.\n",
    "        "
   ]
  },
  {
   "cell_type": "code",
   "execution_count": null,
   "id": "6ee91ea0",
   "metadata": {},
   "outputs": [],
   "source": [
    "10. Why does this expression cause an error? How can you fix it?\n",
    "'I have eaten ' + 99 + ' burritos.'\n",
    "\n",
    "Ans: To fix this error we have to do type casting to 99.\n",
    "      'I have eaten ' + str(99) + ' burritos.'\n",
    "      99 is in the interger form and other are in string and string will perform addition operation only with other string."
   ]
  }
 ],
 "metadata": {
  "kernelspec": {
   "display_name": "Python 3 (ipykernel)",
   "language": "python",
   "name": "python3"
  },
  "language_info": {
   "codemirror_mode": {
    "name": "ipython",
    "version": 3
   },
   "file_extension": ".py",
   "mimetype": "text/x-python",
   "name": "python",
   "nbconvert_exporter": "python",
   "pygments_lexer": "ipython3",
   "version": "3.9.12"
  }
 },
 "nbformat": 4,
 "nbformat_minor": 5
}
