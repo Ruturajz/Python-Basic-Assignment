{
 "cells": [
  {
   "cell_type": "code",
   "execution_count": null,
   "id": "6554a6ec",
   "metadata": {},
   "outputs": [],
   "source": [
    "Q1. To what does a relative path refer?\n",
    "\n",
    "Ans:\n",
    "    The relative paths are relative to current working directory."
   ]
  },
  {
   "cell_type": "code",
   "execution_count": null,
   "id": "ac4bf9e7",
   "metadata": {},
   "outputs": [],
   "source": [
    "Q2. What does an absolute path start with your operating system?\n",
    "\n",
    "Ans:\n",
    "    The windows based system Absolute paths start with C:\\ and linux based Absolute paths sstart with \\."
   ]
  },
  {
   "cell_type": "code",
   "execution_count": null,
   "id": "16c58776",
   "metadata": {},
   "outputs": [],
   "source": [
    "Q3. What do the functions os.getcwd() and os.chdir() do?\n",
    "\n",
    "Ans:\n",
    "    os.getcwd() tells us the current working file location and os.chdir() used to change the current\n",
    "    working directory to specified path."
   ]
  },
  {
   "cell_type": "code",
   "execution_count": null,
   "id": "c036c2bc",
   "metadata": {},
   "outputs": [],
   "source": [
    "Q4. What are the . and .. folders?\n",
    "\n",
    "Ans:\n",
    "    . folder is the current folder and .. folder is the parent folder.\n",
    "    #C:\\Users\\Ruturaj\\Desktop\\python assignment\\Ineuron Paython assignemnt\n",
    "    .. will respresnt path C:\\Users\\Ruturaj\\Desktop\\python assignment\n",
    "    . will respresent path C:\\Users\\Ruturaj\\Desktop\\python assignment\\Ineuron Paython assignemnt"
   ]
  },
  {
   "cell_type": "code",
   "execution_count": null,
   "id": "c4a1298e",
   "metadata": {},
   "outputs": [],
   "source": [
    "Q5. In C:\\bacon\\eggs\\spam.txt, which part is the dir name, and which part is the base name?\n",
    "    \n",
    "Ans:\n",
    "    C:\\bacon\\eggs is the dir name\n",
    "    spam.txt is the base name"
   ]
  },
  {
   "cell_type": "code",
   "execution_count": null,
   "id": "c4bea155",
   "metadata": {},
   "outputs": [],
   "source": [
    "Q6. What are the three “mode” arguments that can be passed to the open() function?\n",
    "\n",
    "Ans:\n",
    "    In paython to acess any file we use open() function which takes two argument filename and mode.\n",
    "    The modes are:\n",
    "    'r': to read mode\n",
    "    'w': to write mode\n",
    "    'a': to append mode"
   ]
  },
  {
   "cell_type": "code",
   "execution_count": null,
   "id": "a4472ed3",
   "metadata": {},
   "outputs": [],
   "source": [
    "Q7. What happens if an existing file is opened in write mode?\n",
    "\n",
    "Ans:\n",
    "    This mode will overwrite any existing content in a file also if file is not exist than new one will be exited."
   ]
  },
  {
   "cell_type": "code",
   "execution_count": null,
   "id": "4c3e04c3",
   "metadata": {},
   "outputs": [],
   "source": [
    "Q8. How do you tell the difference between read() and readlines()?\n",
    "\n",
    "Ans:\n",
    "    The read() mode will reads the entire existing content and will return it as a string.\n",
    "    The readlines() method reads the entire contents of a file and returns it as a list of strings, \n",
    "    where each element of the list is a single line of the file."
   ]
  },
  {
   "cell_type": "code",
   "execution_count": null,
   "id": "be5e45ed",
   "metadata": {},
   "outputs": [],
   "source": [
    "Q9. What data structure does a shelf value resemble?\n",
    "\n",
    "Ans:\n",
    "    A shelf value resemble a dictionary value has key and value."
   ]
  }
 ],
 "metadata": {
  "kernelspec": {
   "display_name": "Python 3 (ipykernel)",
   "language": "python",
   "name": "python3"
  },
  "language_info": {
   "codemirror_mode": {
    "name": "ipython",
    "version": 3
   },
   "file_extension": ".py",
   "mimetype": "text/x-python",
   "name": "python",
   "nbconvert_exporter": "python",
   "pygments_lexer": "ipython3",
   "version": "3.9.12"
  }
 },
 "nbformat": 4,
 "nbformat_minor": 5
}
