{
 "cells": [
  {
   "cell_type": "code",
   "execution_count": null,
   "id": "162a92dc",
   "metadata": {},
   "outputs": [],
   "source": [
    "Q.1 .What are the two values of the Boolean data type? How do you write them?\n",
    "\n",
    "Ans: \n",
    "    Two values of boolean data type are besically True and False.\n",
    "    To write this Two types we write True and Flase with keeping T & F in upper case rest in lower case."
   ]
  },
  {
   "cell_type": "code",
   "execution_count": null,
   "id": "10d4bbbd",
   "metadata": {},
   "outputs": [],
   "source": [
    "Q.2 What are the three different types of Boolean operators?\n",
    "\n",
    "Ans: \n",
    "    Or , And, Not these are the three operators.\n",
    "    \n",
    "    And Opertator-- This check and search all items and return only those contains search items.\n",
    "    or operator-- Thsi search and result one and other term.\n",
    "    Not Operator-- by not this return whether its True of False\n",
    "    Ex: a=50\n",
    "        b=500\n",
    "        print(a>10 and b<750)   ##in this it will print -- True\n",
    "        print(a>100 or b>750)   ##here will return and print-- False\n",
    "        Print(not(b>750))       ##here it will print -- True\n",
    "    "
   ]
  },
  {
   "cell_type": "code",
   "execution_count": null,
   "id": "8cb29be0",
   "metadata": {},
   "outputs": [],
   "source": [
    "Q.3 Make a list of each Boolean operator's truth tables \n",
    "(i.e. every possible combination of Boolean values for the operator and what it evaluate )?\n",
    "\n",
    "Ans: \n",
    "    for OR operator:\n",
    "    (True or True)  is True\n",
    "    (True or False) is True\n",
    "    (False or False) is False\n",
    "    (False or True)  is True\n",
    "           \n",
    "    \n",
    "    for And Operator:\n",
    "    (True and False) is False\n",
    "    (True and True)  is True\n",
    "    (False and False) is False\n",
    "    (False and True)  is False\n",
    "    \n",
    "    for Not Operator:\n",
    "    (not False) is False\n",
    "    (not True)  is True\n",
    "     \n",
    "    "
   ]
  },
  {
   "cell_type": "code",
   "execution_count": null,
   "id": "bdbc8ea7",
   "metadata": {},
   "outputs": [],
   "source": [
    "Q4. What are the values of the following expressions?\n",
    "(5 > 4) and (3 == 5)\n",
    "not (5 > 4)\n",
    "(5 > 4) or (3 == 5)\n",
    "not ((5 > 4) or (3 == 5))\n",
    "(True and True) and (True == False)\n",
    "(not False) or (not True)\n",
    "\n",
    "Ans:\n",
    "   1.  (5 > 4) and (3 == 5)  ---- False\n",
    "   2.  not (5 > 4) ---  False\n",
    "   3.  (5 > 4) or (3 == 5) ---- True\n",
    "   4   not ((5 > 4) or (3 == 5)) ----   False\n",
    "   5   (True and True) and (True == False) ---- False\n",
    "   6.  (not False) or (not True) ---- True\n",
    "    \n",
    "    "
   ]
  },
  {
   "cell_type": "code",
   "execution_count": null,
   "id": "db48fbf1",
   "metadata": {},
   "outputs": [],
   "source": [
    "Q5. What are the six comparison operators?\n",
    "\n",
    "Ans:\n",
    "    !=  Not equal to \n",
    "    <   less than\n",
    "    >   greater than\n",
    "    <=  less than and equal to\n",
    "    >=  greater than and equalto\n",
    "    ==  equal to"
   ]
  },
  {
   "cell_type": "code",
   "execution_count": null,
   "id": "77ffe3f1",
   "metadata": {},
   "outputs": [],
   "source": [
    "Q6. How do you tell the difference between the equal to and assignment operators?\n",
    "Describe a condition and when you would use one.\n",
    "\n",
    "Ans:\n",
    "    = this is the assignment operator which assign or store a variable.\n",
    "    == this is equal to operator which comapres values.\n",
    "    \n",
    "    Ex: a= 'Python'  --- This a assignment operator which store python value in variable (a).\n",
    "        if a == 'Python':\n",
    "            print(a)   --- This a equal to operator which comapres the variable."
   ]
  },
  {
   "cell_type": "code",
   "execution_count": null,
   "id": "07b783b1",
   "metadata": {},
   "outputs": [],
   "source": [
    "Q7. Identify the three blocks in this code:\n",
    "    \n",
    "spam = 0\n",
    "if spam == 10:\n",
    "    print('eggs')   ----  block\n",
    "if spam > 5:\n",
    "    print('bacon')   ----  blcok \n",
    "else:\n",
    "    print('ham') ----- 3rd block\n",
    "    print('spam')\n",
    "    print('spam')\n",
    "\n",
    "Ans:\n",
    "    block refers that code is in the same indent or in block.\n",
    "    Here codes in if statement are in blocks till print('ham')"
   ]
  },
  {
   "cell_type": "code",
   "execution_count": null,
   "id": "e47f7f3b",
   "metadata": {},
   "outputs": [],
   "source": [
    "q8. Write code that prints Hello if 1 is stored in spam, prints Howdy if 2 is stored in spam,\n",
    "and prints Greetings! if anything else is stored in spam.\n",
    "\n",
    "Ans:    \n",
    "    if spam==1:\n",
    "        print('Hello')\n",
    "        \n",
    "    elif spam==2:\n",
    "        print('Howdy')\n",
    "                           \n",
    "    else:\n",
    "        print('Grreting')\n",
    "        \n",
    "    "
   ]
  },
  {
   "cell_type": "code",
   "execution_count": null,
   "id": "5cfa2bf5",
   "metadata": {},
   "outputs": [],
   "source": [
    "Q9. If your programme is stuck in an endless loop, what keys you’ll press?\n",
    "\n",
    "Ans: \n",
    "    Infine loop can be stop using Ctrl+C.\n",
    "      \n",
    "   "
   ]
  },
  {
   "cell_type": "code",
   "execution_count": null,
   "id": "1a7ef93b",
   "metadata": {},
   "outputs": [],
   "source": [
    "Q10.How can you tell the difference between break and continue?\n",
    "\n",
    "Ans: \n",
    "    Break- The Break is used to terminate the loop immediately \n",
    "    continoue- This will termniate current iteration and start the next iteration of the loop."
   ]
  },
  {
   "cell_type": "code",
   "execution_count": null,
   "id": "ff63ad09",
   "metadata": {},
   "outputs": [],
   "source": [
    "Q.11  In a for loop, what is the difference between range(10), range(0, 10), and range(0, 10, 1)?\n",
    "\n",
    "Ans:\n",
    "    range(10)-- Here it will give the range of numbers 0 to 9 and will exclude last no.10\n",
    "    range(0,10)--- here loop will specifically start from 0 will give number till 9 and exclude 10.\n",
    "    range(0, 10, 1)--- here loop will increase the variable by 1 at each iteration."
   ]
  },
  {
   "cell_type": "code",
   "execution_count": null,
   "id": "852037c6",
   "metadata": {},
   "outputs": [],
   "source": [
    "Q.12 Write a short program that prints the numbers 1 to 10 using a for loop. \n",
    "Then write an equivalent program that prints the numbers 1 to 10 using a while loop.\n",
    "\n",
    "Ans:\n",
    "    by for loop\n",
    "    \n",
    "for i in range(1,11):\n",
    "    print(i)             ##this will print [1,2,3,4,5,6,7,8,9,10]\n",
    "    \n",
    "    by while loop\n",
    "    \n",
    "\n",
    "i=1\n",
    "\n",
    "while i<=10:\n",
    "    print(i)\n",
    "    \n",
    "    i= i+1             ##this will print [1,2,3,4,5,6,7,8,9,10]\n",
    "\n",
    "\n"
   ]
  },
  {
   "cell_type": "code",
   "execution_count": null,
   "id": "1465f689",
   "metadata": {},
   "outputs": [],
   "source": [
    "Q.13 If you had a function named bacon() inside a module named spam, how would you call it after importing spam?\n",
    "\n",
    "Ans: \n",
    "    we can call this function by spam.bacon()"
   ]
  },
  {
   "cell_type": "code",
   "execution_count": null,
   "id": "28f30fd3",
   "metadata": {},
   "outputs": [],
   "source": []
  },
  {
   "cell_type": "code",
   "execution_count": null,
   "id": "d5f15f10",
   "metadata": {},
   "outputs": [],
   "source": []
  }
 ],
 "metadata": {
  "kernelspec": {
   "display_name": "Python 3 (ipykernel)",
   "language": "python",
   "name": "python3"
  },
  "language_info": {
   "codemirror_mode": {
    "name": "ipython",
    "version": 3
   },
   "file_extension": ".py",
   "mimetype": "text/x-python",
   "name": "python",
   "nbconvert_exporter": "python",
   "pygments_lexer": "ipython3",
   "version": "3.9.12"
  }
 },
 "nbformat": 4,
 "nbformat_minor": 5
}
