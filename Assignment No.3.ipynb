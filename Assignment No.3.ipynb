{
 "cells": [
  {
   "cell_type": "code",
   "execution_count": null,
   "id": "8e20568c",
   "metadata": {},
   "outputs": [],
   "source": [
    "Q1. Why are functions advantageous to have in your programs?\n",
    "\n",
    "Ans: \n",
    "    Functions helps to make the program shorter and also hepls to do easy updates by reduces the need of duplicate codes."
   ]
  },
  {
   "cell_type": "code",
   "execution_count": null,
   "id": "e848af80",
   "metadata": {},
   "outputs": [],
   "source": [
    "Q2. When does the code in a function run: when it's specified or when it's called? \n",
    "    \n",
    "    Ans: \n",
    "        The code in the function run only when we call the fundction not when we define function."
   ]
  },
  {
   "cell_type": "code",
   "execution_count": null,
   "id": "cad3a49c",
   "metadata": {},
   "outputs": [],
   "source": [
    "Q3. What statement creates a function?\n",
    "\n",
    "Ans: \n",
    "    The def defines/creates a function."
   ]
  },
  {
   "cell_type": "code",
   "execution_count": null,
   "id": "ac402edb",
   "metadata": {},
   "outputs": [],
   "source": [
    "Q4. What is the difference between a function and a function call?\n",
    "\n",
    "Ans:\n",
    "    Function is consisit of a def statement and block of code in it to achieve a return or result.\n",
    "    Function call means by excuting the function we perform a particluar task to generate return or result."
   ]
  },
  {
   "cell_type": "code",
   "execution_count": null,
   "id": "5152245e",
   "metadata": {},
   "outputs": [],
   "source": [
    "Q5. How many global scopes are there in a Python program? How many local scopes?\n",
    "    \n",
    "    Ans: \n",
    "        In python there is only one global scope and local scopes are created whenever we call function."
   ]
  },
  {
   "cell_type": "code",
   "execution_count": null,
   "id": "65d70d40",
   "metadata": {},
   "outputs": [],
   "source": [
    "Q6. What happens to variables in a local scope when the function call returns?\n",
    "\n",
    "    Ans:\n",
    "        When we call the function local scope get destroyed and all vaiables in its are forgotten. "
   ]
  },
  {
   "cell_type": "code",
   "execution_count": null,
   "id": "0b1c4184",
   "metadata": {},
   "outputs": [],
   "source": [
    "Q7. What is the concept of a return value? Is it possible to have a return value in an expression?\n",
    "\n",
    "    Ans: \n",
    "       We get the return value when a Function call evaluates, this return value can also be used as a part of expression.      "
   ]
  },
  {
   "cell_type": "code",
   "execution_count": null,
   "id": "f7d02898",
   "metadata": {},
   "outputs": [],
   "source": [
    "Q8. If a function does not have a return statement, what is the return value of a call to that function?\n",
    "\n",
    "    Ans:\n",
    "        Its return value is None, if any function does not have a return statement."
   ]
  },
  {
   "cell_type": "code",
   "execution_count": null,
   "id": "8ed1b90e",
   "metadata": {},
   "outputs": [],
   "source": [
    "Q9. How do you make a function variable refer to the global variable?\n",
    "\n",
    "   Ans:\n",
    "      To refer a global variable in function we can use global keyword to claim which variables are global."
   ]
  },
  {
   "cell_type": "code",
   "execution_count": null,
   "id": "3b1b0adb",
   "metadata": {},
   "outputs": [],
   "source": [
    "Q10. What is the data type of None?\n",
    "\n",
    "Ans: \n",
    "    NoneType is the data type of None."
   ]
  },
  {
   "cell_type": "code",
   "execution_count": null,
   "id": "2417782b",
   "metadata": {},
   "outputs": [],
   "source": [
    "Q11. What does the sentence import areallyourpetsnamederic do?\n",
    "\n",
    "Ans:\n",
    "    This statement imports the moudle called areallyourpetsnamederic."
   ]
  },
  {
   "cell_type": "code",
   "execution_count": null,
   "id": "a76680bf",
   "metadata": {},
   "outputs": [],
   "source": [
    "Q12. If you had a bacon() feature in a spam module, what would you call it after importing spam?\n",
    "\n",
    "Ans:\n",
    "    This function can be called with spam. bacon()."
   ]
  },
  {
   "cell_type": "code",
   "execution_count": null,
   "id": "4b9316b4",
   "metadata": {},
   "outputs": [],
   "source": [
    "Q13. What can you do to save a programme from crashing if it encounters an error?\n",
    "\n",
    "Ans:\n",
    "    To save the programme from crashing we can use try and except block if it encounters an error."
   ]
  },
  {
   "cell_type": "code",
   "execution_count": null,
   "id": "12052680",
   "metadata": {},
   "outputs": [],
   "source": [
    "Q14. What is the purpose of the try clause? What is the purpose of the except clause?\n",
    "\n",
    "Ans:\n",
    "    The code that could cause an error goes in try clause and code that runs if error cause foes into except clause.\n",
    "    The try-except clause is use  to handle exception.    "
   ]
  }
 ],
 "metadata": {
  "kernelspec": {
   "display_name": "Python 3 (ipykernel)",
   "language": "python",
   "name": "python3"
  },
  "language_info": {
   "codemirror_mode": {
    "name": "ipython",
    "version": 3
   },
   "file_extension": ".py",
   "mimetype": "text/x-python",
   "name": "python",
   "nbconvert_exporter": "python",
   "pygments_lexer": "ipython3",
   "version": "3.9.12"
  }
 },
 "nbformat": 4,
 "nbformat_minor": 5
}
