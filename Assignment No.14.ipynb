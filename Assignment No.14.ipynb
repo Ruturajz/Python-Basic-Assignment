{
 "cells": [
  {
   "cell_type": "code",
   "execution_count": null,
   "id": "3f95b205",
   "metadata": {},
   "outputs": [],
   "source": [
    "Q1. What does RGBA stand for?\n",
    "\n",
    "Ans:\n",
    "    RGBA are 4 colurs format containing data for Red , Green , Blue and Alpha value, where Alpha respresnt the opacity."
   ]
  },
  {
   "cell_type": "code",
   "execution_count": null,
   "id": "2072932c",
   "metadata": {},
   "outputs": [],
   "source": [
    "Q2. From the Pillow module, how do you get the RGBA value of any images?\n",
    "\n",
    "Ans:\n",
    "    pillow has the funtion imagecolur.getcolur() which gives RGBA value of any image."
   ]
  },
  {
   "cell_type": "code",
   "execution_count": null,
   "id": "a1ab4310",
   "metadata": {},
   "outputs": [],
   "source": [
    "Q3. What is a box tuple, and how does it work?\n",
    "\n",
    "Ans:\n",
    "    A box tuple is a tuple value of four integers which are as following:\n",
    "    the left-edge x-coordinate, the top-edge y-coordinate,the width, and the height, respectively.\n",
    "    "
   ]
  },
  {
   "cell_type": "code",
   "execution_count": 25,
   "id": "4553cb2b",
   "metadata": {},
   "outputs": [
    {
     "name": "stdout",
     "output_type": "stream",
     "text": [
      "width: 800 and height: 661\n"
     ]
    }
   ],
   "source": [
    "# Q4. Use your image and load in notebook then, How can you find out the width and height of an Image object?\n",
    "\n",
    "# Ans:\n",
    "\n",
    "from PIL import Image\n",
    "img = Image.open(r'C:\\Users\\Ruturaj\\Desktop\\python assignment\\Ineuron Paython assignemnt\\Image.jpg')\n",
    "width, height = img.size\n",
    "print(f'width: {width} and height: {height}')"
   ]
  },
  {
   "cell_type": "code",
   "execution_count": 23,
   "id": "48f7e061",
   "metadata": {},
   "outputs": [],
   "source": [
    "# Q5. What method would you call to get Image object for a 100×100 image, excluding the lower-left quarter of it?\n",
    "\n",
    "# Ans:\n",
    "from PIL import Image\n",
    "img = Image.open(r'C:\\Users\\Ruturaj\\Desktop\\python assignment\\Ineuron Paython assignemnt\\Image.jpg')\n",
    "croppedImg = img.crop((350, 325, 525, 550))\n",
    "croppedImg.save('cropped.jpg')"
   ]
  },
  {
   "cell_type": "code",
   "execution_count": 17,
   "id": "468b8881",
   "metadata": {},
   "outputs": [],
   "source": [
    "Q6. After making changes to an Image object, how could you save it as an image file?\n",
    "\n",
    "Ans:\n",
    "\n",
    "from PIL import Image\n",
    "img = Image.open('pic.jgp')\n",
    "img.save('img_1.jpg')"
   ]
  },
  {
   "cell_type": "code",
   "execution_count": null,
   "id": "101a7009",
   "metadata": {},
   "outputs": [],
   "source": [
    "Q7. What module contains Pillow’s shape-drawing code?\n",
    "\n",
    "Ans:\n",
    "    In pillow ImageDraw module contains shape-drawing code."
   ]
  },
  {
   "cell_type": "code",
   "execution_count": null,
   "id": "48bcc66c",
   "metadata": {},
   "outputs": [],
   "source": [
    "Q8. Image objects do not have drawing methods. What kind of object does? How do you get this kind of object?\n",
    "\n",
    "Ans:\n",
    "ImageDraw objects have shape-drawing methods which has functons such as point(), line(), rectangle(), ellipses() or polygons().\n",
    "They returned by passing the Image object to the ImageDraw.Draw() function."
   ]
  }
 ],
 "metadata": {
  "kernelspec": {
   "display_name": "Python 3 (ipykernel)",
   "language": "python",
   "name": "python3"
  },
  "language_info": {
   "codemirror_mode": {
    "name": "ipython",
    "version": 3
   },
   "file_extension": ".py",
   "mimetype": "text/x-python",
   "name": "python",
   "nbconvert_exporter": "python",
   "pygments_lexer": "ipython3",
   "version": "3.9.12"
  }
 },
 "nbformat": 4,
 "nbformat_minor": 5
}
