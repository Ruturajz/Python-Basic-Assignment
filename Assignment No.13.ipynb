{
 "cells": [
  {
   "cell_type": "code",
   "execution_count": null,
   "id": "c56e8b22",
   "metadata": {},
   "outputs": [],
   "source": [
    "Q1. What advantages do Excel spreadsheets have over CSV spreadsheets?\n",
    "\n",
    "Ans:\n",
    "    1. Excel not only save data but perform VBA Coding, functions, formulas and create summaries easily when compared to CSV.\n",
    "    2. In Excle large data data is easy to store and read as compare to csv.\n",
    "    3. Files saved in excel cannot be opened or edited by text editors.\n",
    "    "
   ]
  },
  {
   "cell_type": "code",
   "execution_count": null,
   "id": "abb62527",
   "metadata": {},
   "outputs": [],
   "source": [
    "Q2. What do you pass to csv.reader() and csv.writer() to create reader and writer objects?\n",
    "\n",
    "Ans:\n",
    "    import csv\n",
    "    with open('file name', 'r') as file:   ##to read a file\n",
    "        reader = csv.reader(file)        \n",
    "            \n",
    "    with open('file name', 'w') as file:   ##to write a file\n",
    "        writer = csv.writer(file)"
   ]
  },
  {
   "cell_type": "code",
   "execution_count": null,
   "id": "e9da0dbf",
   "metadata": {},
   "outputs": [],
   "source": [
    "Q3. What modes do File objects for reader and writer objects need to be opened in?\n",
    "\n",
    "Ans:\n",
    "    The file objects for reader shoukd open in read mode 'r' and for writer object it should open in write mode 'w'."
   ]
  },
  {
   "cell_type": "code",
   "execution_count": null,
   "id": "59253ae6",
   "metadata": {},
   "outputs": [],
   "source": [
    "Q4. What method takes a list argument and writes it to a CSV file?\n",
    "\n",
    "Ans:\n",
    "    There are two methods write data to CSV file by calling the writerow() or writerows().\n",
    "    writerow() is write only single row at a time whether writerows() writes is write multiple rows at a time."
   ]
  },
  {
   "cell_type": "code",
   "execution_count": null,
   "id": "2533856c",
   "metadata": {},
   "outputs": [],
   "source": [
    "Q5. What do the keyword arguments delimiter and line terminator do?\n",
    "\n",
    "Ans:\n",
    "    In csv file by default the delimiter is the coma and line terminator is new line. "
   ]
  },
  {
   "cell_type": "code",
   "execution_count": null,
   "id": "fce5d224",
   "metadata": {},
   "outputs": [],
   "source": [
    "Q6. What function takes a string of JSON data and returns a Python data structure?\n",
    "\n",
    "Ans:\n",
    "    To Pass a string of JSON data to a python use json.load() function"
   ]
  },
  {
   "cell_type": "code",
   "execution_count": null,
   "id": "e41ef01d",
   "metadata": {},
   "outputs": [],
   "source": [
    "Q7. What function takes a Python data structure and returns a string of JSON data?\n",
    "\n",
    "Ans:\n",
    "    The json.dump() function will translate a python data into string of json data. \n",
    "    "
   ]
  }
 ],
 "metadata": {
  "kernelspec": {
   "display_name": "Python 3 (ipykernel)",
   "language": "python",
   "name": "python3"
  },
  "language_info": {
   "codemirror_mode": {
    "name": "ipython",
    "version": 3
   },
   "file_extension": ".py",
   "mimetype": "text/x-python",
   "name": "python",
   "nbconvert_exporter": "python",
   "pygments_lexer": "ipython3",
   "version": "3.9.12"
  }
 },
 "nbformat": 4,
 "nbformat_minor": 5
}
