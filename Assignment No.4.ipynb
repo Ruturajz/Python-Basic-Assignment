{
 "cells": [
  {
   "cell_type": "code",
   "execution_count": null,
   "id": "92215e12",
   "metadata": {},
   "outputs": [],
   "source": [
    "Q1. What exactly is []?\n",
    "\n",
    "Ans:\n",
    "    [] this is the symbol to represent empty list."
   ]
  },
  {
   "cell_type": "code",
   "execution_count": null,
   "id": "b8308491",
   "metadata": {},
   "outputs": [],
   "source": [
    "Q2. In a list of values stored in a variable called spam, how would you assign the value 'hello' as the third value?\n",
    "(Assume [2, 4, 6, 8, 10] are in spam.)\n",
    "\n",
    "Ans: \n",
    "    spam[2]= \"hello\"\n",
    "    As list has zero based indexing index start from 0 so thrid value in spam variable will be index 2nd value.\n",
    "    spam= [2,4,\"hello\",8,10]"
   ]
  },
  {
   "cell_type": "code",
   "execution_count": null,
   "id": "a2aec79f",
   "metadata": {},
   "outputs": [],
   "source": [
    "Let's pretend the spam includes the list ['a', 'b', 'c', 'd'] for the next three queries.\n",
    "\n",
    "Q3. What is the value of spam[int(int('3' * 2) / 11)]?\n",
    "\n",
    "Ans:\n",
    "    spam[3]= 'd'\n",
    "    Here string ('3'*2) will be 33 before divided by 11, which eventually evalutes to 3,hence spam[3]= d."
   ]
  },
  {
   "cell_type": "code",
   "execution_count": null,
   "id": "3edcd9dd",
   "metadata": {},
   "outputs": [],
   "source": [
    "Q4. What is the value of spam[-1]?\n",
    "\n",
    "Ans:\n",
    "    spam[-1] is the 'd'.\n",
    "    (As lists support Negative indexing, therfore spam[-1] gives 'd')."
   ]
  },
  {
   "cell_type": "code",
   "execution_count": null,
   "id": "3662c17c",
   "metadata": {},
   "outputs": [],
   "source": [
    "Q5. What is the value of spam[:2]?\n",
    "\n",
    "Ans:\n",
    "    Spam[:2]= ['a','b']\n",
    "    "
   ]
  },
  {
   "cell_type": "code",
   "execution_count": null,
   "id": "8caf7c58",
   "metadata": {},
   "outputs": [],
   "source": [
    "Let's pretend bacon has the list [3.14, 'cat,' 11, 'cat,' True] for the next three questions.\n",
    "\n",
    "Q6. What is the value of bacon.index('cat')?\n",
    "\n",
    "Ans:\n",
    "    bacon.index('cat')= 1"
   ]
  },
  {
   "cell_type": "code",
   "execution_count": null,
   "id": "4d5d835d",
   "metadata": {},
   "outputs": [],
   "source": [
    "Q7. How does bacon.append(99) change the look of the list value in bacon?\n",
    "\n",
    "Ans:\n",
    "    bacon.append(99) will  be [3.14, 'cat,' 11, 'cat,' True, 99]\n",
    "    ## as 99 will be appended at the end of list\n",
    "    "
   ]
  },
  {
   "cell_type": "code",
   "execution_count": null,
   "id": "4146b78d",
   "metadata": {},
   "outputs": [],
   "source": [
    "Q8. How does bacon.remove('cat') change the look of the list in bacon?\n",
    "\n",
    "Ans:\n",
    "    bacon= [3.14, 'cat,' 11, 'cat,' True]\n",
    "    bacon.remove('cat') will be give\n",
    "    bacon= [3.14, 11, 'cat,' True]\n",
    "    ## as remove will removes the first occurance of element in list."
   ]
  },
  {
   "cell_type": "code",
   "execution_count": null,
   "id": "d9083ddb",
   "metadata": {},
   "outputs": [],
   "source": [
    "Q9. What are the list concatenation and list replication operators?\n",
    "\n",
    "Ans:\n",
    "    The operator '+' is list concatenation and '*' is the list replication operation.\n",
    "    \n",
    "Ex:\n",
    "    list_A= ['Python', 'Java', 'R']\n",
    "    list_B= ['ML', 'DL', 'NLP']\n",
    "    list_A + list_B = ['Python', 'Java', 'R', 'ML', 'DL', 'NLP']   ## this is list concatenation\n",
    "    list_A*list_A = ['Python', 'Java', 'R', 'Python', 'Java', 'R'] ## this is replication operation."
   ]
  },
  {
   "cell_type": "code",
   "execution_count": null,
   "id": "8debacbb",
   "metadata": {},
   "outputs": [],
   "source": [
    "Q10. What is difference between the list methods append() and insert()?\n",
    "\n",
    "Ans:\n",
    "    The append() method use to add value at the end of the list and insert() method is used to add value anywhere in list.\n",
    "    \n",
    "Ex:\n",
    "    list_1= [10,20,30,40,'ML','DL',50]\n",
    "    list_1.append(100) will be\n",
    "    list_1= [10,20,30,40,'ML','DL',50,100]\n",
    "    \n",
    "    list_1.insert(4,'Python') will be\n",
    "    list_1= [10,20,30,40,'Python''ML','DL',50, 100]    "
   ]
  },
  {
   "cell_type": "code",
   "execution_count": null,
   "id": "0fceeab3",
   "metadata": {},
   "outputs": [],
   "source": [
    "Q11. What are the two methods for removing items from a list?\n",
    "\n",
    "Ans:\n",
    "    By using the remove() and also by using del operator."
   ]
  },
  {
   "cell_type": "code",
   "execution_count": null,
   "id": "7171ff78",
   "metadata": {},
   "outputs": [],
   "source": [
    "Q12. Describe how list values and string values are identical.\n",
    "\n",
    "Ans:\n",
    "    list and string both can be concaneted and replicated also both are sequences. They both can be used for in and not in \n",
    "    operation. Both string and list have length also indices and slices.  "
   ]
  },
  {
   "cell_type": "code",
   "execution_count": null,
   "id": "4e9a2742",
   "metadata": {},
   "outputs": [],
   "source": [
    "Q13. What's the difference between tuples and lists?\n",
    "\n",
    "Ans:\n",
    "    The list represent by [] and tuples represent by (),list are mutables tuples are immutable.\n",
    "    we can add or changed values of the list but we cannot modified values of tuples."
   ]
  },
  {
   "cell_type": "code",
   "execution_count": null,
   "id": "65448387",
   "metadata": {},
   "outputs": [],
   "source": [
    "Q14. How do you type a tuple value that only contains the integer 42?\n",
    "\n",
    "Ans:\n",
    "    (50,)\n",
    "Ex:  tup_a=(50,)"
   ]
  },
  {
   "cell_type": "code",
   "execution_count": null,
   "id": "8073f27a",
   "metadata": {},
   "outputs": [],
   "source": [
    "Q15. How do you get a list value's tuple form? How do you get a tuple value's list form?\n",
    "\n",
    "Ans:\n",
    "    With the help of list() and tuple() methods we can convert tuple values to list and list values to tuple."
   ]
  },
  {
   "cell_type": "code",
   "execution_count": null,
   "id": "35d585dc",
   "metadata": {},
   "outputs": [],
   "source": [
    "Q16. Variables that \"contain\" list values are not necessarily lists themselves. Instead, what do they contain?\n",
    "\n",
    "Ans:\n",
    "    The variables will contains reference to list values. "
   ]
  },
  {
   "cell_type": "code",
   "execution_count": null,
   "id": "58631057",
   "metadata": {},
   "outputs": [],
   "source": [
    "Q17. How do you distinguish between copy.copy() and copy.deepcopy()?\n",
    "\n",
    "Ans:\n",
    "    Using copy.copy() we will get shallow copy of a list and using copy.deepcopy() we will get deep copy of a list.\n",
    "    copy.copy() function creates a copied object of a original obeject any changes in copied object will create changes\n",
    "    in a original object.\n",
    "    copy.deepcopy() function will create duplicate of original object any chnages in new deep copied duplicate\n",
    "    object will not create changes in original object."
   ]
  }
 ],
 "metadata": {
  "kernelspec": {
   "display_name": "Python 3 (ipykernel)",
   "language": "python",
   "name": "python3"
  },
  "language_info": {
   "codemirror_mode": {
    "name": "ipython",
    "version": 3
   },
   "file_extension": ".py",
   "mimetype": "text/x-python",
   "name": "python",
   "nbconvert_exporter": "python",
   "pygments_lexer": "ipython3",
   "version": "3.9.12"
  }
 },
 "nbformat": 4,
 "nbformat_minor": 5
}
