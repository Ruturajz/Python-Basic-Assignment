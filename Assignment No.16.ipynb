{
 "cells": [
  {
   "cell_type": "code",
   "execution_count": 3,
   "id": "2c4ddbdd",
   "metadata": {},
   "outputs": [
    {
     "data": {
      "text/plain": [
       "[1997, 1998, 1999, 2000, 2001, 2002]"
      ]
     },
     "execution_count": 3,
     "metadata": {},
     "output_type": "execute_result"
    }
   ],
   "source": [
    "Q1. Create a list called years_list, starting with the year of your birth, and each year thereafter\n",
    "until the year of your fifth birthday. For example, if you were born in 1980. \n",
    "the list would be years_list = [1980, 1981, 1982, 1983, 1984, 1985].\n",
    "\n",
    "Ans:\n",
    "\n",
    "years_list = [i for i in range(1997,1997+6)]\n",
    "years_list"
   ]
  },
  {
   "cell_type": "code",
   "execution_count": 4,
   "id": "8831d1b2",
   "metadata": {},
   "outputs": [
    {
     "data": {
      "text/plain": [
       "2000"
      ]
     },
     "execution_count": 4,
     "metadata": {},
     "output_type": "execute_result"
    }
   ],
   "source": [
    "Q2. In which year in years_list was your third birthday? Remember, you were 0 years of age for your first year.\n",
    "\n",
    "Ans:\n",
    "\n",
    "years_list[3]"
   ]
  },
  {
   "cell_type": "code",
   "execution_count": 6,
   "id": "0d831240",
   "metadata": {},
   "outputs": [
    {
     "data": {
      "text/plain": [
       "2002"
      ]
     },
     "execution_count": 6,
     "metadata": {},
     "output_type": "execute_result"
    }
   ],
   "source": [
    "Q3. In the years list, which year were you the oldest?\n",
    "\n",
    "Ans:\n",
    "\n",
    "years_list[-1]    "
   ]
  },
  {
   "cell_type": "code",
   "execution_count": 7,
   "id": "83ca0af9",
   "metadata": {},
   "outputs": [
    {
     "data": {
      "text/plain": [
       "['mozzarella', 'cinderella', 'salmonella']"
      ]
     },
     "execution_count": 7,
     "metadata": {},
     "output_type": "execute_result"
    }
   ],
   "source": [
    "Q4. Make a list called things with these three strings as elements: \"mozzarella\", \"cinderella\", \"salmonella\".\n",
    "    \n",
    "Ans:\n",
    "\n",
    "things =list([\"mozzarella\", \"cinderella\", \"salmonella\"])\n",
    "things"
   ]
  },
  {
   "cell_type": "code",
   "execution_count": 9,
   "id": "f5d80fa8",
   "metadata": {},
   "outputs": [
    {
     "name": "stdout",
     "output_type": "stream",
     "text": [
      "['mozzarella', 'Cinderella', 'salmonella']\n"
     ]
    }
   ],
   "source": [
    "Q5. Capitalize the element in things that refers to a person and then print the list. Did it change the element in the list?\n",
    "\n",
    "Ans:\n",
    "\n",
    "for i in range (len(things)):\n",
    "    if things[i]== 'cinderella':\n",
    "        things[i] = things[i].capitalize()\n",
    "        \n",
    "print(things)"
   ]
  },
  {
   "cell_type": "code",
   "execution_count": 14,
   "id": "d1491feb",
   "metadata": {},
   "outputs": [
    {
     "data": {
      "text/plain": [
       "['Groucho', 'Chico', 'Harpo']"
      ]
     },
     "execution_count": 14,
     "metadata": {},
     "output_type": "execute_result"
    }
   ],
   "source": [
    "Q6. Make a surprise list with the elements \"Groucho,\" \"Chico,\" and \"Harpo.\"\n",
    "\n",
    "Ans:\n",
    "\n",
    "surprise = list([\"Groucho\", \"Chico\" , \"Harpo\"])\n",
    "surprise"
   ]
  },
  {
   "cell_type": "code",
   "execution_count": 22,
   "id": "bba6e93d",
   "metadata": {},
   "outputs": [
    {
     "name": "stdout",
     "output_type": "stream",
     "text": [
      "harpo opraH Oprah\n"
     ]
    }
   ],
   "source": [
    "Q7. Lowercase the last element of the surprise list, reverse it, and then capitalize it.\n",
    "\n",
    "Ans:\n",
    "\n",
    "a= surprise[-1].lower()\n",
    "b= surprise[-1][::-1]\n",
    "c= surprise[-1][::-1].capitalize()\n",
    "print(a,b,c)"
   ]
  },
  {
   "cell_type": "code",
   "execution_count": 28,
   "id": "94e9f6f6",
   "metadata": {},
   "outputs": [],
   "source": [
    "Q8. Make an English-to-French dictionary called e2f and print it. Here are your \n",
    "starter words: dog is chien, cat is chat, and walrus is morse.\n",
    "\n",
    "Ans:\n",
    "\n",
    "e2f= {'dog':'chien','cat':'chat', 'walrus':'morse'}"
   ]
  },
  {
   "cell_type": "code",
   "execution_count": 29,
   "id": "f5f5fda0",
   "metadata": {},
   "outputs": [
    {
     "data": {
      "text/plain": [
       "'morse'"
      ]
     },
     "execution_count": 29,
     "metadata": {},
     "output_type": "execute_result"
    }
   ],
   "source": [
    "Q9. Write the French word for walrus in your three-word dictionary e2f.\n",
    "\n",
    "Ans:\n",
    "\n",
    "e2f['walrus']"
   ]
  },
  {
   "cell_type": "code",
   "execution_count": 36,
   "id": "1294aa93",
   "metadata": {},
   "outputs": [
    {
     "data": {
      "text/plain": [
       "{'chien': 'dog', 'chat': 'cat', 'morse': 'walrus'}"
      ]
     },
     "execution_count": 36,
     "metadata": {},
     "output_type": "execute_result"
    }
   ],
   "source": [
    "Q10. Make a French-to-English dictionary called f2e from e2f. Use the items method.\n",
    "\n",
    "Ans:\n",
    "\n",
    "f2e = dict((key,value) for value,key in e2f.items())\n",
    "f2e"
   ]
  },
  {
   "cell_type": "code",
   "execution_count": 37,
   "id": "6761bd7c",
   "metadata": {},
   "outputs": [
    {
     "data": {
      "text/plain": [
       "'dog'"
      ]
     },
     "execution_count": 37,
     "metadata": {},
     "output_type": "execute_result"
    }
   ],
   "source": [
    "Q11. Print the English version of the French word chien using f2e.\n",
    "\n",
    "Ans:\n",
    "    \n",
    "f2e['chien']"
   ]
  },
  {
   "cell_type": "code",
   "execution_count": 39,
   "id": "c347b946",
   "metadata": {},
   "outputs": [
    {
     "name": "stdout",
     "output_type": "stream",
     "text": [
      "dict_keys(['dog', 'cat', 'walrus'])\n"
     ]
    }
   ],
   "source": [
    "Q12. Make and print a set of English words from the keys in e2f.\n",
    "\n",
    "Ans:\n",
    "\n",
    "print(e2f.keys())    "
   ]
  },
  {
   "cell_type": "code",
   "execution_count": 40,
   "id": "9f65c42c",
   "metadata": {},
   "outputs": [
    {
     "data": {
      "text/plain": [
       "{'animal': {'cat': ['Herni', 'Grumpy', 'Lucy'], 'octopi': '', 'emus': ''},\n",
       " 'plants': '',\n",
       " 'other': ''}"
      ]
     },
     "execution_count": 40,
     "metadata": {},
     "output_type": "execute_result"
    }
   ],
   "source": [
    "Q13. Make a multilevel dictionary called life. Use these strings for the topmost keys:'animals', 'plants', and 'other'. Make the 'animals' key refer to \n",
    "another dictionary with the keys' cats', 'octopi', and 'emus'. Make the 'cats' key refer to a list of strings \n",
    "with the values 'Henri', 'Grumpy', and 'Lucy'. Make all the other keys refer to empty dictionaries.\n",
    "    \n",
    "Ans:\n",
    "\n",
    "life = {'animal':{'cat':['Herni','Grumpy','Lucy'], 'octopi':'','emus':''},\n",
    "       'plants':'','other': ''}\n",
    "life"
   ]
  },
  {
   "cell_type": "code",
   "execution_count": 41,
   "id": "f4110425",
   "metadata": {},
   "outputs": [
    {
     "data": {
      "text/plain": [
       "dict_keys(['animal', 'plants', 'other'])"
      ]
     },
     "execution_count": 41,
     "metadata": {},
     "output_type": "execute_result"
    }
   ],
   "source": [
    "Q14. Print the top-level keys of life.\n",
    "\n",
    "Ans:\n",
    "\n",
    "life.keys()    \n"
   ]
  },
  {
   "cell_type": "code",
   "execution_count": 43,
   "id": "3ddef7f0",
   "metadata": {},
   "outputs": [
    {
     "data": {
      "text/plain": [
       "dict_keys(['cat', 'octopi', 'emus'])"
      ]
     },
     "execution_count": 43,
     "metadata": {},
     "output_type": "execute_result"
    }
   ],
   "source": [
    "Q15. Print the keys for life['animals'].\n",
    "\n",
    "Ans:\n",
    "\n",
    "life['animal'].keys()"
   ]
  },
  {
   "cell_type": "code",
   "execution_count": 44,
   "id": "491c4d8a",
   "metadata": {},
   "outputs": [
    {
     "data": {
      "text/plain": [
       "['Herni', 'Grumpy', 'Lucy']"
      ]
     },
     "execution_count": 44,
     "metadata": {},
     "output_type": "execute_result"
    }
   ],
   "source": [
    "Q16. Print the values for life['animals']['cats']\n",
    "\n",
    "Ans:\n",
    "\n",
    "life['animal']['cat']"
   ]
  },
  {
   "cell_type": "code",
   "execution_count": null,
   "id": "985edfc9",
   "metadata": {},
   "outputs": [],
   "source": []
  }
 ],
 "metadata": {
  "kernelspec": {
   "display_name": "Python 3 (ipykernel)",
   "language": "python",
   "name": "python3"
  },
  "language_info": {
   "codemirror_mode": {
    "name": "ipython",
    "version": 3
   },
   "file_extension": ".py",
   "mimetype": "text/x-python",
   "name": "python",
   "nbconvert_exporter": "python",
   "pygments_lexer": "ipython3",
   "version": "3.9.12"
  }
 },
 "nbformat": 4,
 "nbformat_minor": 5
}
