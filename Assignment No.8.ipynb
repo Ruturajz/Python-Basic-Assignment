{
 "cells": [
  {
   "cell_type": "code",
   "execution_count": null,
   "id": "a3b39c33",
   "metadata": {},
   "outputs": [],
   "source": [
    "Q1. Is the Python Standard Library included with PyInputPlus?\n",
    "\n",
    "Ans: No, PyInputPlus is a not a part of python standard library we need to install it seperately using pip command.    "
   ]
  },
  {
   "cell_type": "code",
   "execution_count": null,
   "id": "c33d4247",
   "metadata": {},
   "outputs": [],
   "source": [
    "Q2. Why is PyInputPlus commonly imported with import pyinputplus as pypi?\n",
    "\n",
    "Ans:\n",
    "    This pypi used while importing pyinputplus so tha we can can enter shorter name to call to pyinputplus.\n",
    "    pypi is a alias of pyinputplus."
   ]
  },
  {
   "cell_type": "code",
   "execution_count": null,
   "id": "d37b2a40",
   "metadata": {},
   "outputs": [],
   "source": [
    "Q3. How do you distinguish between inputInt() and inputFloat()?\n",
    "\n",
    "Ans:\n",
    "    inputInt(): This accpets input as interger value and will return int as a output.\n",
    "    inputFloat()?: This accpets input as float and will float as a outupt."
   ]
  },
  {
   "cell_type": "code",
   "execution_count": null,
   "id": "242cd7c5",
   "metadata": {},
   "outputs": [],
   "source": [
    "Q4. Using PyInputPlus, how do you ensure that the user enters a whole number between 0 and 99?\n",
    "\n",
    "Ans:\n",
    "    PyInputPlus module has a function called int() this will only return output in the integer form only.\n",
    "    Also we can use min , max to restrict/limit the numbers.\n",
    "       \n",
    "    import pyinputplus as pyip\n",
    "wholenumber = pyip.inputInt(prompt='Enter a number: ', min=0, max=100)\n",
    "print(wholenumber)"
   ]
  },
  {
   "cell_type": "code",
   "execution_count": 9,
   "id": "4fca34e5",
   "metadata": {},
   "outputs": [
    {
     "name": "stdout",
     "output_type": "stream",
     "text": [
      "Enter a number:200\n",
      "Number must be at maximum 100.\n",
      "Enter a number:80\n",
      "80\n"
     ]
    }
   ],
   "source": [
    "import pyinputplus as pyip\n",
    "number= pyip.inputInt('Enter a number:', min=0 , max= 100)\n",
    "print(number)"
   ]
  },
  {
   "cell_type": "code",
   "execution_count": null,
   "id": "3555649b",
   "metadata": {},
   "outputs": [],
   "source": [
    "Q5. What is transferred to the keyword arguments allowRegexes and blockRegexes?\n",
    "\n",
    "Ans:\n",
    "    allowRegexes and blockRegexes keyword arguments take a list of regular expression strings to decide\n",
    "    what the PyInputPlus function will accept or reject as valid input.\n",
    "    "
   ]
  },
  {
   "cell_type": "code",
   "execution_count": null,
   "id": "151a1846",
   "metadata": {},
   "outputs": [],
   "source": [
    "Q6. If a blank input is entered three times, what does inputStr(limit=3) do?\n",
    "\n",
    "Ans:\n",
    "    The function will generate Retrylimit Exception.\n"
   ]
  },
  {
   "cell_type": "code",
   "execution_count": null,
   "id": "7814c996",
   "metadata": {},
   "outputs": [],
   "source": [
    "Q7. If blank input is entered three times, what does inputStr(limit=3, default='hello') do?\n",
    "\n",
    "Ans: It will return the value 'hello'\n",
    "      "
   ]
  },
  {
   "cell_type": "code",
   "execution_count": 10,
   "id": "5cc225f3",
   "metadata": {},
   "outputs": [
    {
     "name": "stdout",
     "output_type": "stream",
     "text": [
      "\n",
      "Blank values are not allowed.\n",
      "\n",
      "Blank values are not allowed.\n",
      "\n",
      "Blank values are not allowed.\n"
     ]
    },
    {
     "data": {
      "text/plain": [
       "'hello'"
      ]
     },
     "execution_count": 10,
     "metadata": {},
     "output_type": "execute_result"
    }
   ],
   "source": [
    "result = pyip.inputStr(limit=3,default='hello')\n",
    "result"
   ]
  },
  {
   "cell_type": "code",
   "execution_count": null,
   "id": "675731f9",
   "metadata": {},
   "outputs": [],
   "source": []
  }
 ],
 "metadata": {
  "kernelspec": {
   "display_name": "Python 3 (ipykernel)",
   "language": "python",
   "name": "python3"
  },
  "language_info": {
   "codemirror_mode": {
    "name": "ipython",
    "version": 3
   },
   "file_extension": ".py",
   "mimetype": "text/x-python",
   "name": "python",
   "nbconvert_exporter": "python",
   "pygments_lexer": "ipython3",
   "version": "3.9.12"
  }
 },
 "nbformat": 4,
 "nbformat_minor": 5
}
