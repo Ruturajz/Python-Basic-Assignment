{
 "cells": [
  {
   "cell_type": "code",
   "execution_count": null,
   "id": "4b69e123",
   "metadata": {},
   "outputs": [],
   "source": [
    "Q1. What is the name of the feature responsible for generating Regex objects?\n",
    "\n",
    "Ans:\n",
    "    re.compile() function is responsible for generating Regex objects."
   ]
  },
  {
   "cell_type": "code",
   "execution_count": null,
   "id": "cb9e5348",
   "metadata": {},
   "outputs": [],
   "source": [
    "Q2. Why do raw strings often appear in Regex objects?\n",
    "\n",
    "Ans:\n",
    "    Python raw string treat blacklash as a character therefore raw strings used so backlash do not escaped. "
   ]
  },
  {
   "cell_type": "code",
   "execution_count": null,
   "id": "0da2c3ae",
   "metadata": {},
   "outputs": [],
   "source": [
    "Q3. What is the return value of the search() method?\n",
    "\n",
    "Ans:\n",
    "    This serach() method returns the match object if the same pattern observed."
   ]
  },
  {
   "cell_type": "code",
   "execution_count": null,
   "id": "fe3b5e7d",
   "metadata": {},
   "outputs": [],
   "source": [
    "Q4. From a Match item, how do you get the actual strings that match the pattern?\n",
    "\n",
    "Ans:\n",
    "    group() method returns the actual strings that match the pattern. "
   ]
  },
  {
   "cell_type": "code",
   "execution_count": null,
   "id": "b1d4dab3",
   "metadata": {},
   "outputs": [],
   "source": [
    "Q5. In the regex which created from the r'(\\d\\d\\d)-(\\d\\d\\d-\\d\\d\\d\\d)', what does group zero cover? Group 2? Group 1?\n",
    "\n",
    "Ans:\n",
    "    In this regex group 0 cover entire matched pattern, Group 1 cover (\\d\\d\\d) pattern and Group 2 covers (\\d\\d\\d-\\d\\d\\d\\d)\n",
    "    pattern."
   ]
  },
  {
   "cell_type": "code",
   "execution_count": null,
   "id": "db1822c4",
   "metadata": {},
   "outputs": [],
   "source": [
    "Q6. In standard expression syntax, parentheses and intervals have distinct meanings. \n",
    "     How can you tell a regex that you want it to fit real parentheses and periods?\n",
    "    \n",
    "Ans:\n",
    "    \\.,\\(,and/) this escape characters matches with the parentheses and periods characters after passing throug re.compile()"
   ]
  },
  {
   "cell_type": "code",
   "execution_count": null,
   "id": "35d5caf1",
   "metadata": {},
   "outputs": [],
   "source": [
    "Q7. The findall() method returns a string list or a list of string tuples. What causes it to return one of the two options?\n",
    "\n",
    "Ans:\n",
    "    A list of strings matched is returned if regex pattern has 0 gropus and a list of tuples of strings returned if regex\n",
    "    pattern has a groups."
   ]
  },
  {
   "cell_type": "code",
   "execution_count": null,
   "id": "78858cc6",
   "metadata": {},
   "outputs": [],
   "source": [
    "Q8. In standard expressions, what does the | character mean?\n",
    "\n",
    "Ans:\n",
    "    In standard expression, | character means matching \"either, or\" operation."
   ]
  },
  {
   "cell_type": "code",
   "execution_count": null,
   "id": "b8dcf836",
   "metadata": {},
   "outputs": [],
   "source": [
    "Q9. In regular expressions, what does the character stand for?\n",
    "\n",
    "Ans:\n",
    "    In regular expressions ? stands for zero or one match of the preceding group."
   ]
  },
  {
   "cell_type": "code",
   "execution_count": null,
   "id": "44b05356",
   "metadata": {},
   "outputs": [],
   "source": [
    "Q10. In regular expressions, what is the difference between the + and * characters?\n",
    "\n",
    "Ans:\n",
    "    In regular expression + characters respresents one or more accurances while * respresents zero or more occurances in a\n",
    "    preceding group."
   ]
  },
  {
   "cell_type": "code",
   "execution_count": null,
   "id": "89fb16fb",
   "metadata": {},
   "outputs": [],
   "source": [
    "Q11. What is the difference between {4} and {4,5} in regular expression?\n",
    "\n",
    "Ans:\n",
    "    {4} means preceding group should repeat 4 times and {4,5} means preceding group should repeat minimum 4 times and\n",
    "    max 5 times.\n",
    "    \n",
    "    "
   ]
  },
  {
   "cell_type": "code",
   "execution_count": null,
   "id": "b81d0045",
   "metadata": {},
   "outputs": [],
   "source": [
    "Q12. What do you mean by the \\d, \\w, and \\s shorthand character classes signify in regular expressions?\n",
    "\n",
    "Ans:\n",
    "    \\d : This matches the digit equivalant to(0-9)\n",
    "    \\w : This mataches word characters.\n",
    "    \\s:  This matches single white space characters."
   ]
  },
  {
   "cell_type": "code",
   "execution_count": null,
   "id": "b75e08db",
   "metadata": {},
   "outputs": [],
   "source": [
    "Q13. What do means by \\D, \\W, and \\S shorthand character classes signify in regular expressions?\n",
    "\n",
    "Ans:\n",
    "    \\D: This matches to any non digit character.\n",
    "    \\W: This matches to any non-alphanumeric character.\n",
    "    \\S: This matches to any non-whitespace character.\n",
    "        "
   ]
  },
  {
   "cell_type": "code",
   "execution_count": null,
   "id": "f9663f24",
   "metadata": {},
   "outputs": [],
   "source": [
    "Q14. What is the difference between .*? and .*?\n",
    "\n",
    "Ans:\n",
    "    .* - This is greedy regex which try to match as much as possible string.\n",
    "    \n",
    "    .*? - This is lazy regex which try to matches smallest possible string.\n",
    "    "
   ]
  },
  {
   "cell_type": "code",
   "execution_count": null,
   "id": "03cc6e13",
   "metadata": {},
   "outputs": [],
   "source": [
    "Q15. What is the syntax for matching both numbers and lowercase letters with a character class?\n",
    "\n",
    "Ans:\n",
    "    The syntax we can use [a-z0-9] or [0-9a-z]    "
   ]
  },
  {
   "cell_type": "code",
   "execution_count": null,
   "id": "11bf8cd3",
   "metadata": {},
   "outputs": [],
   "source": [
    "Q16. What is the procedure for making a normal expression in regax case insensitive?\n",
    "\n",
    "Ans:\n",
    "    We can use re.ignorecase as a flag to make normal expression case insensitive in regex."
   ]
  },
  {
   "cell_type": "code",
   "execution_count": null,
   "id": "aac3e520",
   "metadata": {},
   "outputs": [],
   "source": [
    "Q17. What does the . character normally match? What does it match if re.DOTALL is passed as 2nd argument in re.compile()?\n",
    "\n",
    "Ans:\n",
    "    . character machtes every character except new line character, if we pass re.DOTALL as 2nd argument in re.compile()\n",
    "    this . character will also match new line character."
   ]
  },
  {
   "cell_type": "code",
   "execution_count": null,
   "id": "385a39c3",
   "metadata": {},
   "outputs": [],
   "source": [
    "Q18. If numReg = re.compile(r'\\d+'), what will numRegex.sub('X', '11 drummers, 10 pipers, five rings, 4 hen') return?\n",
    "\n",
    "Ans:\n",
    "    It will return 'X drummers, X pipers,vfive rings, X hen'"
   ]
  },
  {
   "cell_type": "code",
   "execution_count": null,
   "id": "3d86caf2",
   "metadata": {},
   "outputs": [],
   "source": [
    "Q19. What does passing re.VERBOSE as the 2nd argument to re.compile() allow to do?\n",
    "\n",
    "Ans:\n",
    "    re.VERBOSE is allow to add whitespace and comments to string passed to re.compile()"
   ]
  },
  {
   "cell_type": "code",
   "execution_count": null,
   "id": "641c189b",
   "metadata": {},
   "outputs": [],
   "source": [
    "Q20. . How would you write a regex that match a number with comma for every three digits? It must match the given following:\n",
    "'42'\n",
    "'1,234'\n",
    "'6,368,745'\n",
    "but not the following:\n",
    "'12,34,567' (which has only two digits between the commas)\n",
    "'1234' (which lacks commas)\n",
    "\n",
    "Ans:\n",
    "    first, import re\n",
    "    regex_pattern = r'^\\d{1,3}(,\\d{3})*$'"
   ]
  },
  {
   "cell_type": "code",
   "execution_count": null,
   "id": "9f69674b",
   "metadata": {},
   "outputs": [],
   "source": [
    "Q21. How would you write a regex that matches the full name of someone whose last name is Watanabe? You can assume \n",
    "that the first name that comes before it will always be one word that begins with a capital letter. \n",
    "The regex must match the following:\n",
    "'Haruto Watanabe'\n",
    "'Alice Watanabe'\n",
    "'RoboCop Watanabe'\n",
    "but not the following:\n",
    "'haruto Watanabe' (where the first name is not capitalized)\n",
    "'Mr. Watanabe' (where the preceding word has a nonletter character)\n",
    "'Watanabe' (which has no first name)\n",
    "'Haruto watanabe' (where Watanabe is not capitalized)\n",
    "\n",
    "Ans:\n",
    "    first, import re\n",
    "    regex_pattern = r'^\\[A-Z]{1}[a-z]*\\sWatanabe'\n"
   ]
  },
  {
   "cell_type": "code",
   "execution_count": null,
   "id": "b6cc8796",
   "metadata": {},
   "outputs": [],
   "source": [
    "Q22. How would you write a regex that matches a sentence where the first word is either Alice, Bob, or Carol; the second\n",
    "word is either eats, pets, or throws; the third word is apples, cats, or baseballs; and the sentence ends with a period? \n",
    "This regex should be case-insensitive. It must match the following:\n",
    "'Alice eats apples.'\n",
    "'Bob pets cats.'\n",
    "'Carol throws baseballs.'\n",
    "'Alice throws Apples.'\n",
    "'BOB EATS CATS.'\n",
    "but not the following:\n",
    "'RoboCop eats apples.'\n",
    "'ALICE THROWS FOOTBALLS.'\n",
    "'Carol eats 7 cats.'\n",
    "\n",
    "Ans:\n",
    "    import re\n",
    "    regex_pattern= r'(Alice|Bob|Carol)\\s(eats|pets|throws)\\s(apples|cats|baseballs)\\.'\n",
    "    "
   ]
  }
 ],
 "metadata": {
  "kernelspec": {
   "display_name": "Python 3 (ipykernel)",
   "language": "python",
   "name": "python3"
  },
  "language_info": {
   "codemirror_mode": {
    "name": "ipython",
    "version": 3
   },
   "file_extension": ".py",
   "mimetype": "text/x-python",
   "name": "python",
   "nbconvert_exporter": "python",
   "pygments_lexer": "ipython3",
   "version": "3.9.12"
  }
 },
 "nbformat": 4,
 "nbformat_minor": 5
}
