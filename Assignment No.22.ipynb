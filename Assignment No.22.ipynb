{
 "cells": [
  {
   "cell_type": "code",
   "execution_count": 2,
   "id": "a3b60f9a",
   "metadata": {},
   "outputs": [
    {
     "name": "stdout",
     "output_type": "stream",
     "text": [
      "ineuron\n"
     ]
    }
   ],
   "source": [
    "Q1. What is the result of the code, and explain?\n",
    "\n",
    "\n",
    "# >>> X = 'iNeuron'\n",
    "# >>> def func():\n",
    "# print(X)\n",
    "\n",
    "\n",
    "# >>> func()\n",
    "\n",
    "Ans: The output of this code is ineuron as the function will look for X in its local varibale as there is no any X varibale\n",
    "present in the local so after that the function will return the output from varibale present in global scope i.e X = ineuron\n",
    "\n",
    "X = 'ineuron'\n",
    "def func():\n",
    "    print(X)\n",
    "    \n",
    "func()"
   ]
  },
  {
   "cell_type": "code",
   "execution_count": 5,
   "id": "d1fea1a6",
   "metadata": {},
   "outputs": [
    {
     "name": "stdout",
     "output_type": "stream",
     "text": [
      "iNeuron\n"
     ]
    }
   ],
   "source": [
    "Q2. What is the result of the code, and explain?\n",
    "\n",
    "\n",
    "# >>> X = 'iNeuron'\n",
    "# >>> def func():\n",
    "# X = 'NI!'\n",
    "\n",
    "\n",
    "# >>> func()\n",
    "# >>> print(X)\n",
    "\n",
    "\n",
    "Ans: The output of the above code is 'iNeuron' as, the global varibale are accessible in both inside and outside of the function.\n",
    "However we cannot access function varibale outside the function so as this X is gloable varibale we are able to print= ineuron    \n",
    "\n",
    "X = 'iNeuron'\n",
    "def func():\n",
    "    X = 'NI'\n",
    "    \n",
    "func()\n",
    "print(X)\n"
   ]
  },
  {
   "cell_type": "code",
   "execution_count": 13,
   "id": "3a690b97",
   "metadata": {},
   "outputs": [
    {
     "name": "stdout",
     "output_type": "stream",
     "text": [
      "NI\n",
      "iNeuron\n"
     ]
    }
   ],
   "source": [
    "Q3. What does this code print, and why?\n",
    "\n",
    "\n",
    "# >>> X = 'iNeuron'\n",
    "# >>> def func():\n",
    "# X = 'NI'\n",
    "# print(X)\n",
    "\n",
    "\n",
    "# >>> func()\n",
    "# >>> print(X)\n",
    "\n",
    "Ans: X = 'iNeuron' is present in the global varibale and X = 'NI' is present in the local varibale as global variable is\n",
    "accessible to both inside and outside function hence function prints both local scope as global scople output. \n",
    "\n",
    "\n",
    "X = 'iNeuron'\n",
    "def func():\n",
    "    X = 'NI'\n",
    "    print(X)\n",
    "    \n",
    "func()\n",
    "print(X)\n",
    " "
   ]
  },
  {
   "cell_type": "code",
   "execution_count": 1,
   "id": "3c9f1db6",
   "metadata": {},
   "outputs": [
    {
     "name": "stdout",
     "output_type": "stream",
     "text": [
      "NI\n"
     ]
    }
   ],
   "source": [
    "Q4. What output does this code produce? Why?\n",
    "\n",
    "\n",
    "# >>> X = 'iNeuron'\n",
    "# >>> def func():\n",
    "# global X\n",
    "# X = 'NI'\n",
    "\n",
    "\n",
    "# >>> func()\n",
    "# >>> print(X)\n",
    "\n",
    "Ans: The output of the above code is 'NI' because X is inside the function but it become the made global variable due\n",
    "to global keyword so now X will have new value and it accessible outside function as well so it will print == 'NI'\n",
    "\n",
    "\n",
    "X = 'iNeuron'\n",
    "def func():\n",
    "    global X\n",
    "    X = 'NI'\n",
    "    \n",
    "func()\n",
    "print(X)\n",
    "\n"
   ]
  },
  {
   "cell_type": "code",
   "execution_count": 4,
   "id": "2e0e18ba",
   "metadata": {},
   "outputs": [
    {
     "name": "stdout",
     "output_type": "stream",
     "text": [
      "NI\n"
     ]
    },
    {
     "data": {
      "text/plain": [
       "'iNeuron'"
      ]
     },
     "execution_count": 4,
     "metadata": {},
     "output_type": "execute_result"
    }
   ],
   "source": [
    "Q5. What about this code—what’s the output, and why?\n",
    "\n",
    "\n",
    "# >>> X = 'iNeuron'\n",
    "# >>> def func():\n",
    "# X = 'NI'\n",
    "# def nested():\n",
    "# print(X)\n",
    "# nested()\n",
    "\n",
    "\n",
    "# >>> func()\n",
    "# >>> X\n",
    "\n",
    "\n",
    "Ans: The output of the code is 'NI' and 'iNeuron' beacuse in func() the X= 'NI' is present in local scope also it get prited\n",
    "inside nested function nested() which is also this nested is call inside func() so first 'NI' will be printed also we have \n",
    "call variale X so it will also print its value from global scope.\n",
    "\n",
    "\n",
    "\n",
    "X = 'iNeuron'\n",
    "def func():\n",
    "    X = 'NI'\n",
    "    def nested():\n",
    "        print(X)\n",
    "    nested()\n",
    "        \n",
    "func()\n",
    "X\n",
    "   "
   ]
  },
  {
   "cell_type": "code",
   "execution_count": 10,
   "id": "8aa3eb2f",
   "metadata": {},
   "outputs": [
    {
     "name": "stdout",
     "output_type": "stream",
     "text": [
      "Spam\n"
     ]
    }
   ],
   "source": [
    "Q6. How about this code: what is its output in Python 3, and explain?\n",
    "\n",
    "\n",
    "# >>> def func():\n",
    "# X = 'NI'\n",
    "# def nested():\n",
    "# nonlocal X\n",
    "# X = 'Spam'\n",
    "# nested()\n",
    "# print(X)\n",
    "\n",
    "\n",
    "# >>> func()\n",
    "\n",
    "\n",
    "Ans: The output of the code is 'Spam', the non local keyword is used in nested() function to declare that variable is non local.\n",
    "so the X= 'NI' will be ignored to keyword non local used for varibale X and the new value X= 'Spam' will be assign and modified\n",
    "to global scope hence output will be spam.\n",
    "\n",
    "\n",
    "def func():\n",
    "    X = 'NI'\n",
    "    def nested():\n",
    "        nonlocal X\n",
    "        X = 'Spam'\n",
    "    nested()\n",
    "    print(X)\n",
    "        \n",
    "func()   \n",
    "    "
   ]
  },
  {
   "cell_type": "code",
   "execution_count": null,
   "id": "74634915",
   "metadata": {},
   "outputs": [],
   "source": []
  }
 ],
 "metadata": {
  "kernelspec": {
   "display_name": "Python 3 (ipykernel)",
   "language": "python",
   "name": "python3"
  },
  "language_info": {
   "codemirror_mode": {
    "name": "ipython",
    "version": 3
   },
   "file_extension": ".py",
   "mimetype": "text/x-python",
   "name": "python",
   "nbconvert_exporter": "python",
   "pygments_lexer": "ipython3",
   "version": "3.9.12"
  }
 },
 "nbformat": 4,
 "nbformat_minor": 5
}
