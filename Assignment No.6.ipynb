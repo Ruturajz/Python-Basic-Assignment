{
 "cells": [
  {
   "cell_type": "code",
   "execution_count": null,
   "id": "8f88067d",
   "metadata": {},
   "outputs": [],
   "source": [
    "Q1. What are escape characters, and how do you use them?\n",
    "\n",
    "Ans:\n",
    "    Escape characters are used to insert characters in a string which are impossible to print/type in a code.\n",
    "    We can use backlash \\ to insert a symbol or characters we want.\n",
    "    \\t, \\b,\\n are some examples of escape characters."
   ]
  },
  {
   "cell_type": "code",
   "execution_count": null,
   "id": "a7601f96",
   "metadata": {},
   "outputs": [],
   "source": [
    "Q2. What do the escape characters n and t stand for?\n",
    "\n",
    "Ans:\n",
    "    \\n stands for newline.\n",
    "    \\t stands for tab."
   ]
  },
  {
   "cell_type": "code",
   "execution_count": null,
   "id": "5fc8fcfd",
   "metadata": {},
   "outputs": [],
   "source": [
    "Q3. What is the way to include backslash characters in a string?\n",
    "\n",
    "Ans:\n",
    "    To include backlash characters itself we need to two backlash \\\\ characters in a string."
   ]
  },
  {
   "cell_type": "code",
   "execution_count": null,
   "id": "47d4978f",
   "metadata": {},
   "outputs": [],
   "source": [
    "Q4. The string \"Howl's Moving Castle\" is a correct value. Why isn't the single quote character in the word Howl's not escaped a problem?\n",
    "\n",
    "Ans:\n",
    "    In this string we are already putting double quote at begining and end of senetence therefore single quote in Howl's will not\n",
    "    give any error."
   ]
  },
  {
   "cell_type": "code",
   "execution_count": null,
   "id": "c18dc42d",
   "metadata": {},
   "outputs": [],
   "source": [
    "Q5. How do you write a string of newlines if you don't want to use the n character?\n",
    "\n",
    "Ans:\n",
    "    Multilines string allows us to use new line without using \\n escape character."
   ]
  },
  {
   "cell_type": "code",
   "execution_count": null,
   "id": "dd8b4c7b",
   "metadata": {},
   "outputs": [],
   "source": [
    "Q6. What are the values of the given expressions?\n",
    "'Hello, world!'[1]\n",
    "'Hello, world!'[0:5]\n",
    "'Hello, world!'[:5]\n",
    "'Hello, world!'[3:]\n",
    "\n",
    "Ans:\n",
    "    'Hello, world!'[1] = value will be  'e'\n",
    "    'Hello, world!'[0:5] = value will be 'Hello' \n",
    "    'Hello, world!'[:5] =  value will be 'Hello' \n",
    "    'Hello, world!'[3:] = value will be 'lo world!' "
   ]
  },
  {
   "cell_type": "code",
   "execution_count": null,
   "id": "a6b42b6e",
   "metadata": {},
   "outputs": [],
   "source": [
    "Q7. What are the values of the following expressions?\n",
    "'Hello'.upper()\n",
    "'Hello'.upper().isupper()\n",
    "'Hello'.upper().lower()\n",
    "\n",
    "\n",
    "Ans:\n",
    "    'Hello'.upper() = 'HELLO'\n",
    "    'Hello'.upper().isupper() = 'True'\n",
    "    'Hello'.upper().lower() = 'hello'     "
   ]
  },
  {
   "cell_type": "code",
   "execution_count": null,
   "id": "d64ab1ed",
   "metadata": {},
   "outputs": [],
   "source": [
    "Q8. What are the values of the following expressions?\n",
    "'Remember, remember, the fifth of July.'.split()\n",
    "'-'.join('There can only one.'.split())\n",
    "\n",
    "\n",
    "Ans:\n",
    "    Values for following expression will be\n",
    "    'Remember, remember, the fifth of July.'.split() = ['Remember,', 'remember,', 'the', 'fifth', 'of', 'July']\n",
    "    '-'.join('There can only one.'.split())= 'There-can-only-one.'"
   ]
  },
  {
   "cell_type": "code",
   "execution_count": null,
   "id": "71f6b179",
   "metadata": {},
   "outputs": [],
   "source": [
    "Q9. What are the methods for right-justifying, left-justifying, and centering a string?\n",
    "\n",
    "Ans:\n",
    "    The methods are rjust(), ljust() and centre() for right-justifying, left-justifying, and centering a string."
   ]
  },
  {
   "cell_type": "code",
   "execution_count": null,
   "id": "387c83e9",
   "metadata": {},
   "outputs": [],
   "source": [
    "Q10. What is the best way to remove whitespace characters from the start or end?\n",
    "\n",
    "Ans:\n",
    "    strip() method removes whitespaces at both sides(begining and end) of string.\n",
    "    lstrip() method removes whitespaces at begining of string.\n",
    "    rstrip() method removes whitespaces at end of string."
   ]
  }
 ],
 "metadata": {
  "kernelspec": {
   "display_name": "Python 3 (ipykernel)",
   "language": "python",
   "name": "python3"
  },
  "language_info": {
   "codemirror_mode": {
    "name": "ipython",
    "version": 3
   },
   "file_extension": ".py",
   "mimetype": "text/x-python",
   "name": "python",
   "nbconvert_exporter": "python",
   "pygments_lexer": "ipython3",
   "version": "3.9.12"
  }
 },
 "nbformat": 4,
 "nbformat_minor": 5
}
