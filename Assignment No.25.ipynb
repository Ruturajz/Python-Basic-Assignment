{
 "cells": [
  {
   "cell_type": "code",
   "execution_count": 4,
   "id": "7a1eca4a",
   "metadata": {},
   "outputs": [
    {
     "name": "stdout",
     "output_type": "stream",
     "text": [
      "<class 'list'> [0, 1, 2, 3, 4, 5, 6, 7, 8, 9]\n",
      "<class 'generator'> <generator object <genexpr> at 0x0000029D1886DF90>\n"
     ]
    }
   ],
   "source": [
    "Q1. What is the difference between enclosing a list comprehension in square brackets and parentheses?\n",
    "\n",
    "Ans:\n",
    "\n",
    "The list in a square brackets returns a list but a list with a parentheses returns a generator.\n",
    "Example:\n",
    "\n",
    "l = [i for i in range (10)]\n",
    "print(type(l), l)\n",
    "\n",
    "M = (k for k in range (10))\n",
    "print(type(M),M)    "
   ]
  },
  {
   "cell_type": "code",
   "execution_count": 37,
   "id": "1ca4678a",
   "metadata": {},
   "outputs": [
    {
     "name": "stdout",
     "output_type": "stream",
     "text": [
      "Full Stack\n",
      "Data Science\n",
      "with\n",
      "python\n",
      "0\n",
      "1\n",
      "2\n",
      "3\n",
      "4\n"
     ]
    }
   ],
   "source": [
    "Q2. What is the relationship between generators and iterators?\n",
    "\n",
    "Ans:\n",
    "\n",
    "Iterators = An iterators is a object which is used to itertes over a object such as list, tuples, string etc.\n",
    "            iter() is a built-in fuction which is used to create iterator of a iterbale object.\n",
    "            next() built-in functio is used to return next item in a iterator.\n",
    "    \n",
    "Generators = The Generators is also an another way to create iterators with a simple way by using yeild keyword. Generators\n",
    "             are implemented using a function. Generators are useful when we want to produce a large sequence of values without\n",
    "             store them all in a meomary at once.\n",
    "        \n",
    "Example=\n",
    "list  = (['Full Stack', 'Data Science', 'with', 'python'])\n",
    "iterator = iter(list)\n",
    "for i in list:\n",
    "    print(i)\n",
    "    \n",
    "\n",
    "def even_num(s):\n",
    "    a = 1\n",
    "    while a <=a:\n",
    "        yield b*2\n",
    "        b += 1\n",
    "        \n",
    "for i in range(5):\n",
    "    print(i)   \n"
   ]
  },
  {
   "cell_type": "code",
   "execution_count": null,
   "id": "8d3c8de2",
   "metadata": {},
   "outputs": [],
   "source": [
    "Q3. What are the signs that a function is a generator function?\n",
    "\n",
    "Ans:\n",
    "\n",
    "In generator function yeild is used rather than a return statement, A generator will always returns iterable object\n",
    "with a sequence of values."
   ]
  },
  {
   "cell_type": "code",
   "execution_count": null,
   "id": "21b2b666",
   "metadata": {},
   "outputs": [],
   "source": [
    "Q4. What is the purpose of a yield statement?\n",
    "\n",
    "Ans:\n",
    "\n",
    "A generator uses yeild statement instead of return to return values in Python to the caller.\n",
    "The yeild statement pauses the excuation instead of stopping the excuation, also excuates when a \n",
    "fucntion resumes ita a excuation. yeild statment are highly memory efficient."
   ]
  },
  {
   "cell_type": "code",
   "execution_count": null,
   "id": "47ce85f7",
   "metadata": {},
   "outputs": [],
   "source": [
    "Q5. What is the relationship between map calls and list comprehensions? Make a comparison and contrast between the two.\n",
    "\n",
    "Ans:\n",
    "\n",
    "List Compreshensions returns a list where as the map function returns an object of Iterable.  \n",
    "In List Compreshension we have a filter method but Map function does not allow filtering functionality.\n",
    "List Compreshension is compact and easy to understand than map function.\n",
    "Map function is faster than list comprehension when the function is already defined. In defined function its is good to use\n",
    "map function.\n"
   ]
  }
 ],
 "metadata": {
  "kernelspec": {
   "display_name": "Python 3 (ipykernel)",
   "language": "python",
   "name": "python3"
  },
  "language_info": {
   "codemirror_mode": {
    "name": "ipython",
    "version": 3
   },
   "file_extension": ".py",
   "mimetype": "text/x-python",
   "name": "python",
   "nbconvert_exporter": "python",
   "pygments_lexer": "ipython3",
   "version": "3.9.12"
  }
 },
 "nbformat": 4,
 "nbformat_minor": 5
}
