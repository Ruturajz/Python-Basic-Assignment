{
 "cells": [
  {
   "cell_type": "code",
   "execution_count": 2,
   "id": "dd667f21",
   "metadata": {},
   "outputs": [
    {
     "name": "stdout",
     "output_type": "stream",
     "text": [
      "Enter the value10\n",
      "Value is too high\n"
     ]
    }
   ],
   "source": [
    "Q1. Assign the value 7 to the variable guess_me. Then, write the conditional tests (if, else, and elif)\n",
    "to print the string 'too low' if guess_me is less than 7,'too high' if greater than 7, and 'just right' if equal to 7.\n",
    "\n",
    "Ans:\n",
    "    \n",
    "guess_me = int(input(\"Enter the value\"))\n",
    "\n",
    "if guess_me < 7:\n",
    "    print(\"Value is too low\")\n",
    "    \n",
    "elif guess_me >7:\n",
    "    print(\"Value is too high\")\n",
    "    \n",
    "elif guess_me == 7:\n",
    "    print(\"just right\")"
   ]
  },
  {
   "cell_type": "code",
   "execution_count": 29,
   "id": "8f2903a4",
   "metadata": {},
   "outputs": [
    {
     "name": "stdout",
     "output_type": "stream",
     "text": [
      "too low\n",
      "too low\n",
      "too low\n",
      "too low\n",
      "too low\n",
      "too low\n",
      "Found it!\n"
     ]
    }
   ],
   "source": [
    "Q2. Assign the value 7 to the variable guess_me and the value 1 to the variable start.\n",
    "Write a while loop that compares start with guess_me. Print too low if start is less than guess me. \n",
    "If start equals guess_me, print 'found it!' and exit the loop.If start is greater than guess_me, print 'oops' and exit the loop.\n",
    "Increment start at the end of the loop.\n",
    "\n",
    "Ans:\n",
    "\n",
    "guess_me = 7\n",
    "start  = 1\n",
    "\n",
    "while True:\n",
    "    if start < guess_me:\n",
    "        print(\"too low\")\n",
    "        \n",
    "    elif start == guess_me:\n",
    "        print(\"Found it!\")\n",
    "        break\n",
    "        \n",
    "    else:\n",
    "        print(\"oops\")\n",
    "        break\n",
    "    start +=1\n",
    "        \n",
    "    \n"
   ]
  },
  {
   "cell_type": "code",
   "execution_count": 4,
   "id": "5d017c1a",
   "metadata": {},
   "outputs": [
    {
     "name": "stdout",
     "output_type": "stream",
     "text": [
      "3\n",
      "2\n",
      "1\n",
      "0\n"
     ]
    }
   ],
   "source": [
    "Q3. Print the following values of the list [3, 2, 1, 0] using a for loop.\n",
    "\n",
    "Ans:\n",
    "\n",
    "list = [3,2,1,0]\n",
    "for i in list:\n",
    "    print(i)\n"
   ]
  },
  {
   "cell_type": "code",
   "execution_count": 34,
   "id": "1ebaf340",
   "metadata": {},
   "outputs": [
    {
     "name": "stdout",
     "output_type": "stream",
     "text": [
      "[[0, 2, 4, 6, 8]]\n"
     ]
    }
   ],
   "source": [
    "Q4. Use a list comprehension to make a list of the even numbers in range(10)\n",
    "\n",
    "Ans:\n",
    "\n",
    "list = []\n",
    "even = [i for i in range(10) if i%2==0]\n",
    "list.append(even)\n",
    "print(list)\n"
   ]
  },
  {
   "cell_type": "code",
   "execution_count": 7,
   "id": "0e71d3de",
   "metadata": {},
   "outputs": [
    {
     "name": "stdout",
     "output_type": "stream",
     "text": [
      "{0: 0, 1: 1, 2: 4, 3: 9, 4: 16, 5: 25, 6: 36, 7: 49, 8: 64, 9: 81}\n"
     ]
    }
   ],
   "source": [
    "Q5. Use a dictionary comprehension to create the dictionary squares. Use range(10) to return the keys,\n",
    "and use the square of each key as its value.\n",
    "\n",
    "Ans:\n",
    "\n",
    "dictionary = {num: num * num for num in range(10)}\n",
    "print(dictionary)    "
   ]
  },
  {
   "cell_type": "code",
   "execution_count": 35,
   "id": "aae6b584",
   "metadata": {},
   "outputs": [
    {
     "name": "stdout",
     "output_type": "stream",
     "text": [
      "{1, 3, 5, 7, 9}\n"
     ]
    }
   ],
   "source": [
    "Q6. Construct the set odd from the odd numbers in the range using a set comprehension (10).\n",
    "\n",
    "Ans:\n",
    "\n",
    "odd = {i for i in range(10) if i%2==1}\n",
    "print(odd)"
   ]
  },
  {
   "cell_type": "code",
   "execution_count": 17,
   "id": "ed40e14f",
   "metadata": {},
   "outputs": [
    {
     "name": "stdout",
     "output_type": "stream",
     "text": [
      "Got0\n",
      "Got1\n",
      "Got2\n",
      "Got3\n",
      "Got4\n",
      "Got5\n",
      "Got6\n",
      "Got7\n",
      "Got8\n",
      "Got9\n"
     ]
    }
   ],
   "source": [
    "Q7. Use a generator comprehension to return the string 'Got ' and a number for the numbers in range(10). \n",
    "Iterate through this by using a for loop.\n",
    "\n",
    "Ans:\n",
    "\n",
    "generator = ('Got' + str(num) for num in range(10))\n",
    "\n",
    "for i in generator:\n",
    "    print(i)\n",
    "    "
   ]
  },
  {
   "cell_type": "code",
   "execution_count": 19,
   "id": "d9453e41",
   "metadata": {},
   "outputs": [
    {
     "name": "stdout",
     "output_type": "stream",
     "text": [
      "['Harry', 'Ron', 'Hermione']\n"
     ]
    }
   ],
   "source": [
    "Q8. Define a function called good that returns the list ['Harry', 'Ron', 'Hermione'].\n",
    "\n",
    "Ans:\n",
    "\n",
    "def good():\n",
    "    return [\"Harry\",'Ron', \"Hermione\"]\n",
    "\n",
    "print(good())"
   ]
  },
  {
   "cell_type": "code",
   "execution_count": 22,
   "id": "42a3fdda",
   "metadata": {},
   "outputs": [
    {
     "name": "stdout",
     "output_type": "stream",
     "text": [
      "The Third odd number is 5\n"
     ]
    }
   ],
   "source": [
    "Q9. Define a generator function called get_odds that returns the odd numbers from range(10). \n",
    "Use a for loop to find and print the third value returned.\n",
    "\n",
    "Ans:\n",
    "\n",
    "def get_odds():\n",
    "    for i in range (1,10,2):\n",
    "        yield i\n",
    "        \n",
    "count =1\n",
    "\n",
    "for k in get_odds():\n",
    "    if count ==3:\n",
    "        print(\"The Third odd number is\", k)\n",
    "        break\n",
    "    count += 1"
   ]
  },
  {
   "cell_type": "code",
   "execution_count": 25,
   "id": "d0bcf1ce",
   "metadata": {},
   "outputs": [
    {
     "name": "stdout",
     "output_type": "stream",
     "text": [
      "Caught an oops\n"
     ]
    }
   ],
   "source": [
    "Q10. Define an exception called OopsException. Raise this exception to see what happens. Then write the code to catch this \n",
    "exception and print 'Caught an oops'.\n",
    "\n",
    "Ans:\n",
    "\n",
    "class OopsException(Exception):\n",
    "    pass\n",
    "\n",
    "def raiseException(value):\n",
    "    if value < 0:\n",
    "        raise OopsException(value)\n",
    "        \n",
    "try:\n",
    "    raiseException(-1)\n",
    "    \n",
    "except OopsException as error:\n",
    "    print('Caught an oops')\n",
    "    "
   ]
  },
  {
   "cell_type": "code",
   "execution_count": 38,
   "id": "d20fef46",
   "metadata": {},
   "outputs": [
    {
     "name": "stdout",
     "output_type": "stream",
     "text": [
      "{'Creature of Habit': 'A nun turns into a monster', 'Crewel Fate': 'A huanted yarn shop'}\n"
     ]
    }
   ],
   "source": [
    "Q11. Use zip() to make a dictionary called movies that pairs these lists: titles = ['Creature of Habit', 'Crewel Fate']\n",
    "and plots = ['A nun turns into a monster', 'A haunted yarn shop'].\n",
    "    \n",
    "Ans:\n",
    "\n",
    "tiltes = ['Creature of Habit', 'Crewel Fate']\n",
    "plots = ['A nun turns into a monster', 'A huanted yarn shop']\n",
    "\n",
    "movies = dict(zip(tiltes,plots))\n",
    "print(movies)"
   ]
  },
  {
   "cell_type": "code",
   "execution_count": null,
   "id": "5f193dbf",
   "metadata": {},
   "outputs": [],
   "source": []
  }
 ],
 "metadata": {
  "kernelspec": {
   "display_name": "Python 3 (ipykernel)",
   "language": "python",
   "name": "python3"
  },
  "language_info": {
   "codemirror_mode": {
    "name": "ipython",
    "version": 3
   },
   "file_extension": ".py",
   "mimetype": "text/x-python",
   "name": "python",
   "nbconvert_exporter": "python",
   "pygments_lexer": "ipython3",
   "version": "3.9.12"
  }
 },
 "nbformat": 4,
 "nbformat_minor": 5
}
