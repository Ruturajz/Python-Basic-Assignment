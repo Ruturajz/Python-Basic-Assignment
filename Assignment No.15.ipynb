{
 "cells": [
  {
   "cell_type": "code",
   "execution_count": 1,
   "id": "763f7aaf",
   "metadata": {},
   "outputs": [
    {
     "name": "stdout",
     "output_type": "stream",
     "text": [
      "3600\n"
     ]
    }
   ],
   "source": [
    "Q1. How many seconds are in an hour? Use the interactive interpreter as a calculator and multiply the number \n",
    "of seconds in a minute (60) by the number of minutes in an hour (also 60).\n",
    "sol. 60 \n",
    "\n",
    "Ans:\n",
    "\n",
    "print(60*60)    "
   ]
  },
  {
   "cell_type": "code",
   "execution_count": 6,
   "id": "cee5cd06",
   "metadata": {},
   "outputs": [],
   "source": [
    "Q2. Assign the result from the previous task (seconds in an hour) to a variable called seconds_per_hour.\n",
    "\n",
    "Ans:\n",
    "seconds_per_hour = 3600"
   ]
  },
  {
   "cell_type": "code",
   "execution_count": 7,
   "id": "c320bb6b",
   "metadata": {},
   "outputs": [
    {
     "name": "stdout",
     "output_type": "stream",
     "text": [
      "86400\n"
     ]
    }
   ],
   "source": [
    "Q3. How many seconds do you think there are in a day? Make use of the variables seconds per hour and minutes per hour.\n",
    "\n",
    "Ans:\n",
    "minutes_per_hour = 60\n",
    "print(seconds_per_hour*24)"
   ]
  },
  {
   "cell_type": "code",
   "execution_count": 8,
   "id": "122e73b4",
   "metadata": {},
   "outputs": [
    {
     "name": "stdout",
     "output_type": "stream",
     "text": [
      "86400\n"
     ]
    }
   ],
   "source": [
    "Q4. Calculate seconds per day again, but this time save the result in a variable called seconds_per_day.\n",
    "\n",
    "Ans:\n",
    "\n",
    "seconds_per_day = seconds_per_hour*24\n",
    "print(seconds_per_day)"
   ]
  },
  {
   "cell_type": "code",
   "execution_count": 9,
   "id": "b59b61f9",
   "metadata": {},
   "outputs": [
    {
     "name": "stdout",
     "output_type": "stream",
     "text": [
      "24.0\n"
     ]
    }
   ],
   "source": [
    "Q5. Divide seconds_per_day by seconds_per_hour. Use floating-point (/) division.\n",
    "\n",
    "Ans:\n",
    "\n",
    "print(seconds_per_day/seconds_per_hour)    "
   ]
  },
  {
   "cell_type": "code",
   "execution_count": 10,
   "id": "50a21930",
   "metadata": {},
   "outputs": [
    {
     "name": "stdout",
     "output_type": "stream",
     "text": [
      "24\n"
     ]
    }
   ],
   "source": [
    "Q6. Divide seconds_per_day by seconds_per_hour, using integer (//) division. Did this number agree with the \n",
    "floating-point value from the previous question,aside from the final .0?\n",
    "\n",
    "Ans:\n",
    "\n",
    "print(seconds_per_day//seconds_per_hour) \n",
    "\n",
    "Yes the value of above print() is agree with the floating-point value from previous question."
   ]
  },
  {
   "cell_type": "code",
   "execution_count": 20,
   "id": "ffc208b3",
   "metadata": {},
   "outputs": [
    {
     "name": "stdout",
     "output_type": "stream",
     "text": [
      "2\n",
      "3\n",
      "5\n",
      "7\n",
      "11\n",
      "13\n",
      "17\n",
      "19\n",
      "23\n",
      "29\n",
      "31\n",
      "37\n",
      "41\n",
      "43\n",
      "47\n",
      "53\n",
      "59\n",
      "61\n",
      "67\n",
      "71\n"
     ]
    }
   ],
   "source": [
    "# Q7. Write a generator, genPrimes, that returns the sequence of prime numbers on\n",
    "# successive calls to its next() method: 2, 3, 5, 7, 11, ...\n",
    "    \n",
    "# Ans:\n",
    "def isprime (num):\n",
    "        for i in range (2,num):\n",
    "            if num%i == 0:\n",
    "                return False\n",
    "        return True\n",
    "    \n",
    "def getprime(n):\n",
    "    num=2\n",
    "    while n:\n",
    "        if isprime(num):\n",
    "            yield num\n",
    "            n-=1\n",
    "        num+=1\n",
    "    return\n",
    "    \n",
    "a = getprime(20)\n",
    "for e in a:\n",
    "    print(e)\n",
    "               "
   ]
  },
  {
   "cell_type": "code",
   "execution_count": null,
   "id": "c2cbdc54",
   "metadata": {},
   "outputs": [],
   "source": []
  }
 ],
 "metadata": {
  "kernelspec": {
   "display_name": "Python 3 (ipykernel)",
   "language": "python",
   "name": "python3"
  },
  "language_info": {
   "codemirror_mode": {
    "name": "ipython",
    "version": 3
   },
   "file_extension": ".py",
   "mimetype": "text/x-python",
   "name": "python",
   "nbconvert_exporter": "python",
   "pygments_lexer": "ipython3",
   "version": "3.9.12"
  }
 },
 "nbformat": 4,
 "nbformat_minor": 5
}
