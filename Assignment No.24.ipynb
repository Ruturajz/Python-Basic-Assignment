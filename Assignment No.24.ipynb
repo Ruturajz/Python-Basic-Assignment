{
 "cells": [
  {
   "cell_type": "code",
   "execution_count": null,
   "id": "488aff5a",
   "metadata": {},
   "outputs": [],
   "source": [
    "# Q1. What is the relationship between def statements and lambda expressions ?\n",
    "\n",
    "# ANS:\n",
    "\n",
    "Def function is used to call the normal function where lambda function is a Anonymous Function it is call without name.\n",
    "Lambda consist of a single expression and result will be returend from the function created, while a def statement has no value, and creates a function object\n",
    "and attach it to a name."
   ]
  },
  {
   "cell_type": "code",
   "execution_count": null,
   "id": "c820a4f4",
   "metadata": {},
   "outputs": [],
   "source": [
    "# Q2. What is the benefit of lambda?\n",
    "\n",
    "# Ans:\n",
    "\n",
    "Lambda expression  can be easily passed without being assigned to a variable this saves time also\n",
    "lambda functions make code much more readable.\n",
    "Lambda functions are inline functions and thus execute comparatively faster. \n",
    "    "
   ]
  },
  {
   "cell_type": "code",
   "execution_count": null,
   "id": "c8cdd009",
   "metadata": {},
   "outputs": [],
   "source": [
    "# Q3. Compare and contrast map, filter, and reduce.\n",
    "\n",
    "# Ans:\n",
    "\n",
    "1. Map() Function = In Map function we give two parameter one is function and other is iterable.\n",
    "               map function will iterate through all the items in given interable and will excute the function one by one a\n",
    "               and give the output.\n",
    "               Syntax = map(function,iterable)\n",
    "\n",
    "            \n",
    "2.filter function= The filter() function in python returns boolean value for each iterable.\n",
    "                   This take take two arguments function and a iterable.\n",
    "    \n",
    "\n",
    "\n",
    "3. Reduce() Function = This will also take two arguments function and a iterable.\n",
    "                      In Reduce() function instead of getting another iterable it will return a single value."
   ]
  },
  {
   "cell_type": "code",
   "execution_count": 57,
   "id": "cb6d9518",
   "metadata": {},
   "outputs": [
    {
     "name": "stdout",
     "output_type": "stream",
     "text": [
      "(2, 4, 6, 8)\n"
     ]
    }
   ],
   "source": [
    "new_num = tuple(map(lambda x: x*2 , range(1,5))) \n",
    "print(new_num)"
   ]
  },
  {
   "cell_type": "code",
   "execution_count": 30,
   "id": "4bfc4b9e",
   "metadata": {},
   "outputs": [
    {
     "name": "stdout",
     "output_type": "stream",
     "text": [
      "10\n",
      "18\n",
      "40\n",
      "50\n"
     ]
    }
   ],
   "source": [
    "##filter function example\n",
    "num = [5, 10, 13, 18, 25, 40,50]\n",
    "\n",
    "def even_num(i):\n",
    "    if i %2==0:\n",
    "        return True\n",
    "    else:\n",
    "        return False\n",
    "\n",
    "li = filter(even_num, num)\n",
    "\n",
    "for k in li:\n",
    "    print(k)"
   ]
  },
  {
   "cell_type": "code",
   "execution_count": 31,
   "id": "5a55b942",
   "metadata": {},
   "outputs": [
    {
     "name": "stdout",
     "output_type": "stream",
     "text": [
      "10\n"
     ]
    }
   ],
   "source": [
    "##Reduce function example\n",
    "from functools import reduce\n",
    "print(reduce(lambda x, y: x + y, range (1,5)))"
   ]
  },
  {
   "cell_type": "code",
   "execution_count": null,
   "id": "dbb1819f",
   "metadata": {},
   "outputs": [],
   "source": [
    "# Q4. What are function annotations, and how are they used?\n",
    "\n",
    "# Ans:\n",
    "\n",
    "Function annotations are the standard methods to access the metadata with the arguments and the return value of the function. \n",
    "Function annotations evaluated only during the compile-time and have no significance during the run-time of the code.\n",
    "They have meanining only when they are associate with any third party library.\n",
    "String based annotations can be used by the libraries to provide better help messages at compile time regarding the\n",
    "functionalities of various methods, classes and modules.\n",
    "\n",
    "# Example=\n",
    "\n",
    "def my_func(a: 'int') -> 'int':\n",
    "    pass\n",
    "\n",
    "# for simple pararmeters=\n",
    "\n",
    "def my_func(a: 'float'=5.1, b: 'argument2'):"
   ]
  },
  {
   "cell_type": "code",
   "execution_count": 3,
   "id": "f506e13b",
   "metadata": {},
   "outputs": [
    {
     "name": "stdout",
     "output_type": "stream",
     "text": [
      "720\n"
     ]
    }
   ],
   "source": [
    "# Q5. What are recursive functions, and how are they used?\n",
    "\n",
    "# Ans:\n",
    "\n",
    "# Recursive functions is the functions that calls iteself dusring an excution.\n",
    "# Using recursive function complex problems can be broken into simpler sub problems.\n",
    "# This function helps to understand easy but recursive function are difficult of debug also take alot memory.\n",
    "\n",
    "def my_func(a):\n",
    "    if a == 1:\n",
    "        return 1   ##base condition\n",
    "    \n",
    "    else:\n",
    "        return(a* my_func(a-1))\n",
    "    \n",
    "print(my_func(6))\n",
    "\n"
   ]
  },
  {
   "cell_type": "code",
   "execution_count": null,
   "id": "0f2d8f36",
   "metadata": {},
   "outputs": [],
   "source": [
    "# Q6. What are some general design guidelines for coding functions?\n",
    "\n",
    "# Ans:\n",
    "\n",
    "1. Use a coding style that is easy to understand.\n",
    "2. Proper indentation is very important to increase the readability of the code.\n",
    "3. Use updated and regular comments for better undertanding to both coder and user.\n",
    "4. Lengths of the function should not be large as small functions are easy to understand.\n",
    "5. Use docstring\n",
    "6. Avoid use of digits in a variable names.\n",
    "7. Dont use ASCII characters in identifiers.\n",
    "8. Use space before and after of an operator also after comma as well for more readability."
   ]
  },
  {
   "cell_type": "code",
   "execution_count": null,
   "id": "23e72fd9",
   "metadata": {},
   "outputs": [],
   "source": [
    "# Q7. Name three or more ways that functions can communicate results to a caller.\n",
    "\n",
    "# Ans:\n",
    "\n",
    "Below are some of the ways that functions can communicate results to caller=\n",
    "\n",
    "1. return\n",
    "2. print\n",
    "3. yield\n",
    "\n"
   ]
  }
 ],
 "metadata": {
  "kernelspec": {
   "display_name": "Python 3 (ipykernel)",
   "language": "python",
   "name": "python3"
  },
  "language_info": {
   "codemirror_mode": {
    "name": "ipython",
    "version": 3
   },
   "file_extension": ".py",
   "mimetype": "text/x-python",
   "name": "python",
   "nbconvert_exporter": "python",
   "pygments_lexer": "ipython3",
   "version": "3.9.12"
  }
 },
 "nbformat": 4,
 "nbformat_minor": 5
}
