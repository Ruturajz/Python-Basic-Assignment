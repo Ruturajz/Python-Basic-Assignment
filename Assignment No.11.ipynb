{
 "cells": [
  {
   "cell_type": "code",
   "execution_count": 4,
   "id": "17ba5e53",
   "metadata": {},
   "outputs": [
    {
     "ename": "AssertionError",
     "evalue": "varibale spam should not be a negative int",
     "output_type": "error",
     "traceback": [
      "\u001b[1;31m---------------------------------------------------------------------------\u001b[0m",
      "\u001b[1;31mAssertionError\u001b[0m                            Traceback (most recent call last)",
      "Input \u001b[1;32mIn [4]\u001b[0m, in \u001b[0;36m<cell line: 5>\u001b[1;34m()\u001b[0m\n\u001b[0;32m      1\u001b[0m \u001b[38;5;66;03m# Q1. Create an assert statement that throws an AssertionError if the variable spam is a negative integer.\u001b[39;00m\n\u001b[0;32m      2\u001b[0m \n\u001b[0;32m      3\u001b[0m \u001b[38;5;66;03m# Ans:\u001b[39;00m\n\u001b[0;32m      4\u001b[0m Spam \u001b[38;5;241m=\u001b[39m \u001b[38;5;241m-\u001b[39m\u001b[38;5;241m100\u001b[39m\n\u001b[1;32m----> 5\u001b[0m \u001b[38;5;28;01massert\u001b[39;00m Spam \u001b[38;5;241m>\u001b[39m\u001b[38;5;241m=\u001b[39m \u001b[38;5;241m0\u001b[39m , \u001b[38;5;124m'\u001b[39m\u001b[38;5;124mvaribale spam should not be a negative int\u001b[39m\u001b[38;5;124m'\u001b[39m\n",
      "\u001b[1;31mAssertionError\u001b[0m: varibale spam should not be a negative int"
     ]
    }
   ],
   "source": [
    "Q1. Create an assert statement that throws an AssertionError if the variable spam is a negative integer.\n",
    "\n",
    "Ans:\n",
    "Spam = -100\n",
    "assert Spam >= 0 , 'varibale spam should not be a negative int' "
   ]
  },
  {
   "cell_type": "code",
   "execution_count": 5,
   "id": "82ca48b7",
   "metadata": {},
   "outputs": [],
   "source": [
    "Q2. Write an assert statement that triggers an AssertionError if the variables eggs and bacon contain strings that \n",
    "are the same as each other, even if their cases are different \n",
    "(that is, 'hello' and 'hello' are considered the same,and 'goodbye' and 'GOODbye'are also considered the same).\n",
    "\n",
    "Ans:\n",
    "def raise_assert(egg,bacon):\n",
    "    egg = egg.upper()\n",
    "    bacon = bacon.upper()\n",
    "    assert not(egg == bacon), 'Eggs/Bacon should not be same'"
   ]
  },
  {
   "cell_type": "code",
   "execution_count": 6,
   "id": "d2d4d8bd",
   "metadata": {},
   "outputs": [
    {
     "ename": "AssertionError",
     "evalue": "Eggs/Bacon should not be same",
     "output_type": "error",
     "traceback": [
      "\u001b[1;31m---------------------------------------------------------------------------\u001b[0m",
      "\u001b[1;31mAssertionError\u001b[0m                            Traceback (most recent call last)",
      "Input \u001b[1;32mIn [6]\u001b[0m, in \u001b[0;36m<cell line: 1>\u001b[1;34m()\u001b[0m\n\u001b[1;32m----> 1\u001b[0m \u001b[43mraise_assert\u001b[49m\u001b[43m(\u001b[49m\u001b[38;5;124;43m'\u001b[39;49m\u001b[38;5;124;43mhello\u001b[39;49m\u001b[38;5;124;43m'\u001b[39;49m\u001b[43m,\u001b[49m\u001b[38;5;124;43m'\u001b[39;49m\u001b[38;5;124;43mHello\u001b[39;49m\u001b[38;5;124;43m'\u001b[39;49m\u001b[43m)\u001b[49m\n",
      "Input \u001b[1;32mIn [5]\u001b[0m, in \u001b[0;36mraise_assert\u001b[1;34m(egg, bacon)\u001b[0m\n\u001b[0;32m      7\u001b[0m egg \u001b[38;5;241m=\u001b[39m egg\u001b[38;5;241m.\u001b[39mupper()\n\u001b[0;32m      8\u001b[0m bacon \u001b[38;5;241m=\u001b[39m bacon\u001b[38;5;241m.\u001b[39mupper()\n\u001b[1;32m----> 9\u001b[0m \u001b[38;5;28;01massert\u001b[39;00m \u001b[38;5;129;01mnot\u001b[39;00m(egg \u001b[38;5;241m==\u001b[39m bacon), \u001b[38;5;124m'\u001b[39m\u001b[38;5;124mEggs/Bacon should not be same\u001b[39m\u001b[38;5;124m'\u001b[39m\n",
      "\u001b[1;31mAssertionError\u001b[0m: Eggs/Bacon should not be same"
     ]
    }
   ],
   "source": [
    "raise_assert('hello','Hello')"
   ]
  },
  {
   "cell_type": "code",
   "execution_count": 7,
   "id": "5aba16c8",
   "metadata": {},
   "outputs": [
    {
     "ename": "AssertionError",
     "evalue": "Eggs/Bacon should not be same",
     "output_type": "error",
     "traceback": [
      "\u001b[1;31m---------------------------------------------------------------------------\u001b[0m",
      "\u001b[1;31mAssertionError\u001b[0m                            Traceback (most recent call last)",
      "Input \u001b[1;32mIn [7]\u001b[0m, in \u001b[0;36m<cell line: 1>\u001b[1;34m()\u001b[0m\n\u001b[1;32m----> 1\u001b[0m \u001b[43mraise_assert\u001b[49m\u001b[43m(\u001b[49m\u001b[38;5;124;43m'\u001b[39;49m\u001b[38;5;124;43mgoodbye\u001b[39;49m\u001b[38;5;124;43m'\u001b[39;49m\u001b[43m,\u001b[49m\u001b[38;5;124;43m'\u001b[39;49m\u001b[38;5;124;43mGoodbye\u001b[39;49m\u001b[38;5;124;43m'\u001b[39;49m\u001b[43m)\u001b[49m\n",
      "Input \u001b[1;32mIn [5]\u001b[0m, in \u001b[0;36mraise_assert\u001b[1;34m(egg, bacon)\u001b[0m\n\u001b[0;32m      7\u001b[0m egg \u001b[38;5;241m=\u001b[39m egg\u001b[38;5;241m.\u001b[39mupper()\n\u001b[0;32m      8\u001b[0m bacon \u001b[38;5;241m=\u001b[39m bacon\u001b[38;5;241m.\u001b[39mupper()\n\u001b[1;32m----> 9\u001b[0m \u001b[38;5;28;01massert\u001b[39;00m \u001b[38;5;129;01mnot\u001b[39;00m(egg \u001b[38;5;241m==\u001b[39m bacon), \u001b[38;5;124m'\u001b[39m\u001b[38;5;124mEggs/Bacon should not be same\u001b[39m\u001b[38;5;124m'\u001b[39m\n",
      "\u001b[1;31mAssertionError\u001b[0m: Eggs/Bacon should not be same"
     ]
    }
   ],
   "source": [
    "raise_assert('goodbye','Goodbye')"
   ]
  },
  {
   "cell_type": "code",
   "execution_count": 22,
   "id": "b7247f61",
   "metadata": {},
   "outputs": [
    {
     "ename": "AssertionError",
     "evalue": "this will always give assertion error",
     "output_type": "error",
     "traceback": [
      "\u001b[1;31m---------------------------------------------------------------------------\u001b[0m",
      "\u001b[1;31mAssertionError\u001b[0m                            Traceback (most recent call last)",
      "Input \u001b[1;32mIn [22]\u001b[0m, in \u001b[0;36m<cell line: 5>\u001b[1;34m()\u001b[0m\n\u001b[0;32m      1\u001b[0m \u001b[38;5;66;03m# Q3. Create an assert statement that throws an AssertionError every time.\u001b[39;00m\n\u001b[0;32m      2\u001b[0m \n\u001b[0;32m      3\u001b[0m \u001b[38;5;66;03m# Ans:\u001b[39;00m\n\u001b[0;32m      4\u001b[0m assert_spam \u001b[38;5;241m=\u001b[39m \u001b[38;5;124m'\u001b[39m\u001b[38;5;124mfalse\u001b[39m\u001b[38;5;124m'\u001b[39m\n\u001b[1;32m----> 5\u001b[0m \u001b[38;5;28;01massert\u001b[39;00m \u001b[38;5;28;01mFalse\u001b[39;00m, \u001b[38;5;124m'\u001b[39m\u001b[38;5;124mthis will always give assertion error\u001b[39m\u001b[38;5;124m'\u001b[39m\n",
      "\u001b[1;31mAssertionError\u001b[0m: this will always give assertion error"
     ]
    }
   ],
   "source": [
    "Q3. Create an assert statement that throws an AssertionError every time.\n",
    "\n",
    "Ans:\n",
    "assert_spam = 'false'\n",
    "assert False, 'this will always give assertion error'"
   ]
  },
  {
   "cell_type": "code",
   "execution_count": null,
   "id": "5ad3f133",
   "metadata": {},
   "outputs": [],
   "source": [
    "Q4. What are the two lines that must be present in your software in order to call logging.debug()?\n",
    "\n",
    "Ans:\n",
    "    import logging\n",
    "    logging.basicConfig(level=logging.DEBUG,format=' %(asctime)s - %(levelname)s - %(message)s')"
   ]
  },
  {
   "cell_type": "code",
   "execution_count": null,
   "id": "e08fb6df",
   "metadata": {},
   "outputs": [],
   "source": [
    "Q5. What are the two lines that your program must have in order to have logging.debug() send a logging\n",
    "message to a file named programLog.txt?\n",
    "\n",
    "Ans:\n",
    "    import logging\n",
    "    logging.basicConfig(file name= 'programLog.txt',level=logging.DEBUG,format=' %(asctime)s - %(levelname)s - %(message)s')"
   ]
  },
  {
   "cell_type": "code",
   "execution_count": null,
   "id": "d40544c5",
   "metadata": {},
   "outputs": [],
   "source": [
    "Q6. What are the five levels of logging?\n",
    "\n",
    "Ans:\n",
    "    The five levels of logging are Info, Debug, Warning, Warning and Critical."
   ]
  },
  {
   "cell_type": "code",
   "execution_count": null,
   "id": "6d954c5e",
   "metadata": {},
   "outputs": [],
   "source": [
    "Q7. What line of code would you add to your software to disable all logging messages?\n",
    "\n",
    "Ans:\n",
    "    logging.disable = True"
   ]
  },
  {
   "cell_type": "code",
   "execution_count": null,
   "id": "121cc934",
   "metadata": {},
   "outputs": [],
   "source": [
    "Q8. Why is using logging messages better than using print() to display the same message?\n",
    "\n",
    "Ans:\n",
    "    The advantage of logging is we can easily turn it on-off, we can logging messsage also logging message creates timestamp."
   ]
  },
  {
   "cell_type": "code",
   "execution_count": null,
   "id": "4a58b368",
   "metadata": {},
   "outputs": [],
   "source": [
    "Q9. What are the differences between the Step Over, Step In, and Step Out buttons in the debugger?\n",
    "\n",
    "Ans:\n",
    "    Step Over: This will quickly excute the function without stepping into it.\n",
    "        \n",
    "    Step In: This will excute the next line of code in function and pause again.  \n",
    "        \n",
    "    Step out: This will excute the rest of the code until it step out of the function it is currently in."
   ]
  },
  {
   "cell_type": "code",
   "execution_count": null,
   "id": "1855bccd",
   "metadata": {},
   "outputs": [],
   "source": [
    "Q10. After you click Continue, when will the debugger stop ?\n",
    "\n",
    "Ans:\n",
    "    The debugger will stop when it will reach at end of program or line with a breakpoint. "
   ]
  },
  {
   "cell_type": "code",
   "execution_count": null,
   "id": "f27c348b",
   "metadata": {},
   "outputs": [],
   "source": [
    "Q11. What is the concept of a breakpoint?\n",
    "\n",
    "Ans:\n",
    "    Breakpoint is a settling line of code which use to pause debugger execution.\n",
    "    This is a intentional stopping or pausing place in program."
   ]
  }
 ],
 "metadata": {
  "kernelspec": {
   "display_name": "Python 3 (ipykernel)",
   "language": "python",
   "name": "python3"
  },
  "language_info": {
   "codemirror_mode": {
    "name": "ipython",
    "version": 3
   },
   "file_extension": ".py",
   "mimetype": "text/x-python",
   "name": "python",
   "nbconvert_exporter": "python",
   "pygments_lexer": "ipython3",
   "version": "3.9.12"
  }
 },
 "nbformat": 4,
 "nbformat_minor": 5
}
