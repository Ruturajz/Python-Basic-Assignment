{
 "cells": [
  {
   "cell_type": "code",
   "execution_count": null,
   "id": "87636637",
   "metadata": {},
   "outputs": [],
   "source": [
    "Q1. What does an empty dictionary's code look like?\n",
    "\n",
    "Ans:\n",
    "    {} (two curly braces) requires for an empty dictionary."
   ]
  },
  {
   "cell_type": "code",
   "execution_count": null,
   "id": "026b72c6",
   "metadata": {},
   "outputs": [],
   "source": [
    "Q2. What is the value of a dictionary value with the key 'foo' and the value 42?\n",
    "\n",
    "Ans: \n",
    "    {'foo': 42}"
   ]
  },
  {
   "cell_type": "code",
   "execution_count": null,
   "id": "be942663",
   "metadata": {},
   "outputs": [],
   "source": [
    "Q3. What is the most significant distinction between a dictionary and a list?\n",
    "\n",
    "Ans:\n",
    "    list contains interger, string also objects and values stored in list are in a orderd.\n",
    "    Dictionary contains key:value pair and values stored in dictionary are unordered.\n",
    "    list is represented by [] while dictionary represented by {}."
   ]
  },
  {
   "cell_type": "code",
   "execution_count": null,
   "id": "3823d724",
   "metadata": {},
   "outputs": [],
   "source": [
    "Q4. What happens if you try to access spam['foo'] if spam is {'bar': 100}?\n",
    "\n",
    "Ans:\n",
    "    We will get a key error."
   ]
  },
  {
   "cell_type": "code",
   "execution_count": null,
   "id": "9db42c59",
   "metadata": {},
   "outputs": [],
   "source": [
    "Q5. If a dictionary is stored in spam, what is the difference between the expressions 'cat' in spam and 'cat' in spam.keys()?\n",
    "\n",
    "Ans:\n",
    "    There is no such difference, as operator checks whether in dictionary 'cat' is exist as a key or not. "
   ]
  },
  {
   "cell_type": "code",
   "execution_count": null,
   "id": "3f585481",
   "metadata": {},
   "outputs": [],
   "source": [
    "Q6. If a dictionary is stored in spam, what is the difference between the expressions 'cat' in spam and 'cat' in spam.values()?\n",
    "\n",
    "Ans:\n",
    "    'cat' in spam checks whether 'cat' is key in a dictionary while 'cat' in spam.values checks whether is their any\n",
    "    value 'cat' for any of the key. "
   ]
  },
  {
   "cell_type": "code",
   "execution_count": null,
   "id": "32d2fec8",
   "metadata": {},
   "outputs": [],
   "source": [
    "Q7. What is a shortcut for the following code?\n",
    "if 'color' not in spam:\n",
    "spam['color'] = 'black'\n",
    "\n",
    "\n",
    "Ans:\n",
    "    spam.setdefault('color','black')"
   ]
  },
  {
   "cell_type": "code",
   "execution_count": null,
   "id": "42afc852",
   "metadata": {},
   "outputs": [],
   "source": [
    "Q8. How do you \"pretty print\" dictionary values using which module and function?\n",
    "\n",
    "Ans:\n",
    "    To \"pretty print\" in dictionary we can use pprint module and pprint() function of same module.\n",
    "    "
   ]
  }
 ],
 "metadata": {
  "kernelspec": {
   "display_name": "Python 3 (ipykernel)",
   "language": "python",
   "name": "python3"
  },
  "language_info": {
   "codemirror_mode": {
    "name": "ipython",
    "version": 3
   },
   "file_extension": ".py",
   "mimetype": "text/x-python",
   "name": "python",
   "nbconvert_exporter": "python",
   "pygments_lexer": "ipython3",
   "version": "3.9.12"
  }
 },
 "nbformat": 4,
 "nbformat_minor": 5
}
