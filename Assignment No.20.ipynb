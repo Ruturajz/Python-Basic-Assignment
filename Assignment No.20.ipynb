{
 "cells": [
  {
   "cell_type": "code",
   "execution_count": 2,
   "id": "2c8d85d4",
   "metadata": {},
   "outputs": [
    {
     "name": "stdout",
     "output_type": "stream",
     "text": [
      "This is a test of the emergency test system,\n"
     ]
    }
   ],
   "source": [
    "# Q1. Set the variable test1 to the string 'This is a test of the emergency text system,'\n",
    "# and save test1 to a file named test.txt.\n",
    "\n",
    "# Ans:\n",
    "\n",
    "test1 = 'This is a test of the emergency test system,'\n",
    "file= open('test.txt', 'w')\n",
    "file.write(test1)\n",
    "f = open(\"test.txt\", \"r\")\n",
    "print(f.read())\n"
   ]
  },
  {
   "cell_type": "code",
   "execution_count": 3,
   "id": "ffc0e658",
   "metadata": {},
   "outputs": [
    {
     "name": "stdout",
     "output_type": "stream",
     "text": [
      "This is a test of the emergency test system,\n",
      "No Difference both are same\n"
     ]
    }
   ],
   "source": [
    "# Q2. Read the contents of the file test.txt into the variable test2. Is there a difference between test 1 and test 2?\n",
    "\n",
    "# Ans:\n",
    "\n",
    "with open ('test.txt','r') as f:\n",
    "    test2 = f.readline()\n",
    "    \n",
    "print(test2)\n",
    "\n",
    "if test1==test2:\n",
    "    print(\"No Difference both are same\")\n",
    "\n"
   ]
  },
  {
   "cell_type": "code",
   "execution_count": 4,
   "id": "7e76d7fc",
   "metadata": {},
   "outputs": [],
   "source": [
    "# Q3. Create a CSV file called books.csv by using these lines:\n",
    "# title,author,year\n",
    "# The Weirdstone of Brisingamen,Alan Garner,1960\n",
    "# Perdido Street Station,China Miéville,2000\n",
    "# Thud!,Terry Pratchett,2005\n",
    "# The Spellman Files,Lisa Lutz,2007\n",
    "# Small Gods,Terry Pratchett,1992\n",
    "\n",
    "# Ans:\n",
    "\n",
    "text = \"\"\"title,author,year\n",
    "The Weirdstone of Brisingamen,Alan Garner,1960\n",
    "Perdido Street Station,China Miéville,2000\n",
    "Thud!,Terry Pratchett,2005\n",
    "The Spellman Files,Lisa Lutz,2007\n",
    "Small Gods,Terry Pratchett,1992\"\"\"\n",
    "\n",
    "with open('books.csv', 'w') as file:\n",
    "    file.write(text)\n"
   ]
  },
  {
   "cell_type": "code",
   "execution_count": 5,
   "id": "309f95ef",
   "metadata": {},
   "outputs": [],
   "source": [
    "# Q4. Use the sqlite3 module to create a SQLite database called books.db, and a table called books\n",
    "# with these fields: title (text), author (text), and year (integer).\n",
    "\n",
    "# Ans:\n",
    "\n",
    "import sqlite3\n",
    "connector = sqlite3.connect('books.db')\n",
    "cur = connector.cursor() \n",
    "cur.execute('create Table books(title text , author text , year int)')\n",
    "connector.commit()\n",
    "connector.close()"
   ]
  },
  {
   "cell_type": "code",
   "execution_count": 9,
   "id": "04ffb494",
   "metadata": {},
   "outputs": [],
   "source": [
    "# Q5. Read books.csv and insert its data into the book table\n",
    "\n",
    "# Ans:\n",
    "import csv\n",
    "import sqlite3\n",
    "connector = sqlite3.connect(\"books.db\")\n",
    "cur = connector.cursor()\n",
    "with open(\"books.csv\", 'r') as file:\n",
    "    books = csv.DictReader(file)\n",
    "    for i in books:\n",
    "        cur.execute(\"Insert into books values (?,?,?)\",(i['title'],i['author'],i['year']))\n",
    "connector.commit()\n",
    "connector.close()\n"
   ]
  },
  {
   "cell_type": "code",
   "execution_count": 11,
   "id": "bf318aff",
   "metadata": {},
   "outputs": [
    {
     "name": "stdout",
     "output_type": "stream",
     "text": [
      "Perdido Street Station\n",
      "Small Gods\n",
      "The Spellman Files\n",
      "The Weirdstone of Brisingamen\n",
      "Thud!\n"
     ]
    }
   ],
   "source": [
    "# Q6. Select and print the title column from the book table in alphabetical order.\n",
    "\n",
    "# Ans:\n",
    "\n",
    "import sqlite3\n",
    "connector = sqlite3.connect('books.db')\n",
    "cur = connector.cursor()\n",
    "result = cur.execute(\"select title from books order by title asc\")\n",
    "for i in result:\n",
    "    print(i[0])\n",
    "connector.commit()\n",
    "connector.close()\n"
   ]
  },
  {
   "cell_type": "code",
   "execution_count": 12,
   "id": "cb604f2e",
   "metadata": {},
   "outputs": [
    {
     "name": "stdout",
     "output_type": "stream",
     "text": [
      "('The Weirdstone of Brisingamen', 'Alan Garner', 1960)\n",
      "('Small Gods', 'Terry Pratchett', 1992)\n",
      "('Perdido Street Station', 'China Miéville', 2000)\n",
      "('Thud!', 'Terry Pratchett', 2005)\n",
      "('The Spellman Files', 'Lisa Lutz', 2007)\n"
     ]
    }
   ],
   "source": [
    "# Q7. From the book table, select and print all columns in the order of publication.\n",
    "\n",
    "# Ans:\n",
    "\n",
    "import sqlite3\n",
    "connector = sqlite3.connect('books.db')\n",
    "cur = connector.cursor()\n",
    "result = cur.execute(\"select * From books order by year\")\n",
    "for i in result:\n",
    "    print(i)\n",
    "connector.commit()\n",
    "connector.close()"
   ]
  },
  {
   "cell_type": "code",
   "execution_count": 15,
   "id": "b69e8156",
   "metadata": {},
   "outputs": [
    {
     "data": {
      "text/plain": [
       "Engine(sqlite:///books.db)"
      ]
     },
     "execution_count": 15,
     "metadata": {},
     "output_type": "execute_result"
    }
   ],
   "source": [
    "# Q8. Use the sqlalchemy module to connect to the sqlite3 database books.db that you just made in exercise 6.\n",
    "\n",
    "# Ans:\n",
    "\n",
    "import sqlalchemy\n",
    "connect = sqlalchemy.create_engine('sqlite:///books.db')\n",
    "connect"
   ]
  },
  {
   "cell_type": "code",
   "execution_count": 16,
   "id": "7ecc8044",
   "metadata": {
    "scrolled": true
   },
   "outputs": [
    {
     "name": "stdout",
     "output_type": "stream",
     "text": [
      "Collecting redis\n",
      "  Downloading redis-4.5.4-py3-none-any.whl (238 kB)\n",
      "Collecting async-timeout>=4.0.2\n",
      "  Downloading async_timeout-4.0.2-py3-none-any.whl (5.8 kB)\n",
      "Installing collected packages: async-timeout, redis\n",
      "  Attempting uninstall: async-timeout\n",
      "    Found existing installation: async-timeout 4.0.1\n",
      "    Uninstalling async-timeout-4.0.1:\n",
      "      Successfully uninstalled async-timeout-4.0.1\n",
      "Successfully installed async-timeout-4.0.2 redis-4.5.4\n"
     ]
    }
   ],
   "source": [
    "# Q9. Install the Redis server and the Python redis library (pip install redis) on your computer. \n",
    "# Create a Redis hash called test with the fields count (1) and name ('Fester Bestertester').Print all the fields for test.\n",
    "\n",
    "# Ans:\n",
    "!pip install redis"
   ]
  },
  {
   "cell_type": "code",
   "execution_count": null,
   "id": "2ee040cc",
   "metadata": {},
   "outputs": [],
   "source": [
    "import redis\n",
    "connector = redis.Redis()\n",
    "connector.hset('test',{'count':1,'name':'Frester Bestertester'})\n",
    "connector.hgetall('test')"
   ]
  },
  {
   "cell_type": "code",
   "execution_count": null,
   "id": "ce2d97f7",
   "metadata": {},
   "outputs": [],
   "source": [
    "# Q10. Increment the count field of test and print it.\n",
    "\n",
    "# Ans:\n",
    "conn.hincrby('test', 'count', 2)"
   ]
  }
 ],
 "metadata": {
  "kernelspec": {
   "display_name": "Python 3 (ipykernel)",
   "language": "python",
   "name": "python3"
  },
  "language_info": {
   "codemirror_mode": {
    "name": "ipython",
    "version": 3
   },
   "file_extension": ".py",
   "mimetype": "text/x-python",
   "name": "python",
   "nbconvert_exporter": "python",
   "pygments_lexer": "ipython3",
   "version": "3.9.12"
  }
 },
 "nbformat": 4,
 "nbformat_minor": 5
}
