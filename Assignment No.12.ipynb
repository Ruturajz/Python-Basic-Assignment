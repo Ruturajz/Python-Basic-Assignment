{
 "cells": [
  {
   "cell_type": "code",
   "execution_count": null,
   "id": "c08ed65f",
   "metadata": {},
   "outputs": [],
   "source": [
    "Q1. In what modes should the PdfFileReader() and PdfFileWriter() File objects will be opened?\n",
    "\n",
    "Ans:\n",
    "    For PdfFileReader() file object the file should open in'rb' i.e read binary mode.\n",
    "    For pdfFileWriter() file object the file should open in 'wb'i.we write binary mode."
   ]
  },
  {
   "cell_type": "code",
   "execution_count": null,
   "id": "caeb826d",
   "metadata": {},
   "outputs": [],
   "source": [
    "Q2. From a PdfFileReader object, how do you get a Page object for page 5?\n",
    "\n",
    "Ans:\n",
    "    In Pdfreader object we can get direct page no by getpage(page no) method.\n",
    "    "
   ]
  },
  {
   "cell_type": "code",
   "execution_count": null,
   "id": "c0f2ccd7",
   "metadata": {},
   "outputs": [],
   "source": [
    "Q3. What PdfFileReader variable stores the number of pages in the PDF document?\n",
    "\n",
    "Ans:\n",
    "    The getNumpages() method of PdfFileReader stores the number of pages in the PDF document."
   ]
  },
  {
   "cell_type": "code",
   "execution_count": null,
   "id": "ca6d3933",
   "metadata": {},
   "outputs": [],
   "source": [
    "Q4. If a PdfFileReader object’s PDF is encrypted with the password swordfish, \n",
    "what must you do before you can obtain Page objects from it?\n",
    "\n",
    "Ans:\n",
    "    If PdfFileReader object PDF is encrypted with the password swordfish, in pdfFileReader is proved isEncrypted to check\n",
    "    whether the pdf file is encrypted it will return True of encrypted or flase if not,if pdf is encrypted we can \n",
    "    use the decrypt() method to read the contents/pages of the pdf. "
   ]
  },
  {
   "cell_type": "code",
   "execution_count": null,
   "id": "3773bacc",
   "metadata": {},
   "outputs": [],
   "source": [
    "Q5. What methods do you use to rotate a page?\n",
    "\n",
    "Ans:\n",
    "    Using Py2PDF package there are 2 ways to rotate pages:\n",
    "    rotateClockwise() and rotateCounterClockwise() methods."
   ]
  },
  {
   "cell_type": "code",
   "execution_count": null,
   "id": "a7bb5b3e",
   "metadata": {},
   "outputs": [],
   "source": [
    "Q6. What is the difference between a Run object and a Paragraph object?\n",
    "\n",
    "Ans:\n",
    "    A Paragraph object will contains multiple paragraph document. Each paragraph will start on the new line and also it \n",
    "    contains mutliple run, use can press enter while writting to begin new paragraph.\n",
    "    Runs are contiguous groups of characters within a paragraph with the same style. A new Run object is needed whenever\n",
    "    the text style changes."
   ]
  },
  {
   "cell_type": "code",
   "execution_count": null,
   "id": "c171736c",
   "metadata": {},
   "outputs": [],
   "source": [
    "Q7. How do you obtain a list of Paragraph objects for a Document object that’s stored in a variable named doc?\n",
    "\n",
    "Ans:\n",
    "    #Example\n",
    "    import Document\n",
    "    doc = docx.Document(\"file_path.docx\") \n",
    "    print(doc.paragraphs) \n",
    "    for paragraph in doc.paragraphs:\n",
    "    print(paragraph.text) \n",
    "    "
   ]
  },
  {
   "cell_type": "code",
   "execution_count": null,
   "id": "300ac1db",
   "metadata": {},
   "outputs": [],
   "source": [
    "Q8. What type of object has bold, underline, italic, strike, and outline variables?\n",
    "\n",
    "Ans:\n",
    "    The Run object has bold, underline, italic, strike and outline varibales."
   ]
  },
  {
   "cell_type": "code",
   "execution_count": null,
   "id": "919e544e",
   "metadata": {},
   "outputs": [],
   "source": [
    "Q9. What is the difference between False, True, and None for the bold variable?\n",
    "\n",
    "Ans: \n",
    "    bold = True  #style is set to be bold\n",
    "    bold = False # style is not set to bold\n",
    "    bold = None  # style is not applicable"
   ]
  },
  {
   "cell_type": "code",
   "execution_count": null,
   "id": "7a963d2f",
   "metadata": {},
   "outputs": [],
   "source": [
    "Q10. How do you create a Document object for a new Word document?\n",
    "\n",
    "Ans:\n",
    "    import document\n",
    "    doc= docx.document()\n",
    "    doc.add_paragraph('Python, Data Science')\n",
    "    doc.save('Ineuron.docx')    "
   ]
  },
  {
   "cell_type": "code",
   "execution_count": null,
   "id": "525134d3",
   "metadata": {},
   "outputs": [],
   "source": [
    "Q11. How do you add a paragraph with the text 'Hello, there!' to a Document object stored in a variable named doc?\n",
    "\n",
    "Ans:\n",
    "    import Document\n",
    "    doc = docx.Document()\n",
    "    doc.add_paragraph('Hello, there!')\n",
    "    doc.save('hello.docx')"
   ]
  },
  {
   "cell_type": "code",
   "execution_count": null,
   "id": "d1880dba",
   "metadata": {},
   "outputs": [],
   "source": [
    "Q12. What integers represent the levels of headings available in Word documents?\n",
    "\n",
    "Ans:\n",
    "    There are 5 types of string 0 to 4. The integer 0 makes the heading the Title style, which is used for the top of the document. Integers 1 to 4 are for various heading levels, with 1 being the main heading\n",
    "    and 4 the lowest subheading."
   ]
  }
 ],
 "metadata": {
  "kernelspec": {
   "display_name": "Python 3 (ipykernel)",
   "language": "python",
   "name": "python3"
  },
  "language_info": {
   "codemirror_mode": {
    "name": "ipython",
    "version": 3
   },
   "file_extension": ".py",
   "mimetype": "text/x-python",
   "name": "python",
   "nbconvert_exporter": "python",
   "pygments_lexer": "ipython3",
   "version": "3.9.12"
  }
 },
 "nbformat": 4,
 "nbformat_minor": 5
}
